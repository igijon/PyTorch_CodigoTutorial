{
  "nbformat": 4,
  "nbformat_minor": 0,
  "metadata": {
    "colab": {
      "provenance": [],
      "gpuType": "T4",
      "authorship_tag": "ABX9TyM+SHIW5DIMpGmPEpD60MlE",
      "include_colab_link": true
    },
    "kernelspec": {
      "name": "python3",
      "display_name": "Python 3"
    },
    "language_info": {
      "name": "python"
    },
    "accelerator": "GPU"
  },
  "cells": [
    {
      "cell_type": "markdown",
      "metadata": {
        "id": "view-in-github",
        "colab_type": "text"
      },
      "source": [
        "<a href=\"https://colab.research.google.com/github/igijon/PyTorch_CodigoTutorial/blob/main/00_pytorth_fundamentals.ipynb\" target=\"_parent\"><img src=\"https://colab.research.google.com/assets/colab-badge.svg\" alt=\"Open In Colab\"/></a>"
      ]
    },
    {
      "cell_type": "markdown",
      "source": [
        "##00. Pytorch Fundamentals\n",
        "\n",
        "Resource notebook: https://www.learnpytorch.io/00_pytorch_fundamentals/\n",
        "\n",
        "If you have a question: https://github.com/mrdbourke/pytorch-deep-learning/discussions\n"
      ],
      "metadata": {
        "id": "KyJEEgYgsG4w"
      }
    },
    {
      "cell_type": "code",
      "execution_count": null,
      "metadata": {
        "colab": {
          "base_uri": "https://localhost:8080/"
        },
        "id": "3S3Y-ugGrLm7",
        "outputId": "3a39ca88-8db3-49e4-fb17-fc5462004b6b"
      },
      "outputs": [
        {
          "output_type": "stream",
          "name": "stdout",
          "text": [
            "Hello, I'm excited to learn Pytorch!!\n"
          ]
        }
      ],
      "source": [
        "print(\"Hello, I'm excited to learn Pytorch!!\")"
      ]
    },
    {
      "cell_type": "code",
      "source": [
        "import torch\n",
        "import pandas as pd\n",
        "import numpy as np\n",
        "import matplotlib.pyplot as plt\n",
        "\n",
        "print(torch.__version__)"
      ],
      "metadata": {
        "colab": {
          "base_uri": "https://localhost:8080/"
        },
        "id": "HtfP9xU-rwqo",
        "outputId": "fafb9be5-9021-4bc7-8ecc-ebf72b308c74"
      },
      "execution_count": null,
      "outputs": [
        {
          "output_type": "stream",
          "name": "stdout",
          "text": [
            "2.3.1+cu121\n"
          ]
        }
      ]
    },
    {
      "cell_type": "code",
      "source": [
        "!nvidia-smi"
      ],
      "metadata": {
        "colab": {
          "base_uri": "https://localhost:8080/"
        },
        "id": "2G3069QltLkR",
        "outputId": "7280da94-073d-4991-c6f1-e7cb5a6cfefd"
      },
      "execution_count": null,
      "outputs": [
        {
          "output_type": "stream",
          "name": "stdout",
          "text": [
            "/bin/bash: line 1: nvidia-smi: command not found\n"
          ]
        }
      ]
    },
    {
      "cell_type": "markdown",
      "source": [
        "## Tensors\n",
        "\n",
        "### Creating tensors"
      ],
      "metadata": {
        "id": "Qqfqj2xhtSgw"
      }
    },
    {
      "cell_type": "code",
      "source": [
        "# Scalar\n",
        "scalar = torch.tensor(7)\n",
        "scalar"
      ],
      "metadata": {
        "colab": {
          "base_uri": "https://localhost:8080/"
        },
        "id": "3IOVWW_ntocA",
        "outputId": "7e331bbd-5cb3-42ac-bc4c-f2458fafea12"
      },
      "execution_count": null,
      "outputs": [
        {
          "output_type": "execute_result",
          "data": {
            "text/plain": [
              "tensor(7)"
            ]
          },
          "metadata": {},
          "execution_count": 4
        }
      ]
    },
    {
      "cell_type": "code",
      "source": [
        "scalar.ndim"
      ],
      "metadata": {
        "colab": {
          "base_uri": "https://localhost:8080/"
        },
        "id": "6yIJylj3t1PU",
        "outputId": "72097d88-dc4a-486a-e644-cde45a3ad535"
      },
      "execution_count": null,
      "outputs": [
        {
          "output_type": "execute_result",
          "data": {
            "text/plain": [
              "0"
            ]
          },
          "metadata": {},
          "execution_count": 5
        }
      ]
    },
    {
      "cell_type": "code",
      "source": [
        "scalar.item()"
      ],
      "metadata": {
        "colab": {
          "base_uri": "https://localhost:8080/"
        },
        "id": "zAXfo5wvuXKI",
        "outputId": "3310377b-a4ef-46c2-eeab-460b0a530ad5"
      },
      "execution_count": null,
      "outputs": [
        {
          "output_type": "execute_result",
          "data": {
            "text/plain": [
              "7"
            ]
          },
          "metadata": {},
          "execution_count": 6
        }
      ]
    },
    {
      "cell_type": "code",
      "source": [
        "# Vector\n",
        "vector = torch.tensor([7,7])\n",
        "vector"
      ],
      "metadata": {
        "colab": {
          "base_uri": "https://localhost:8080/"
        },
        "id": "Yg9tgCx4uix6",
        "outputId": "f3c15559-860e-45d6-8d2f-e8575c8d9a76"
      },
      "execution_count": null,
      "outputs": [
        {
          "output_type": "execute_result",
          "data": {
            "text/plain": [
              "tensor([7, 7])"
            ]
          },
          "metadata": {},
          "execution_count": 7
        }
      ]
    },
    {
      "cell_type": "code",
      "source": [
        "vector.ndim"
      ],
      "metadata": {
        "colab": {
          "base_uri": "https://localhost:8080/"
        },
        "id": "IozTkhyzuzH8",
        "outputId": "593b3abf-77b4-4a97-d925-e32ab877cdc3"
      },
      "execution_count": null,
      "outputs": [
        {
          "output_type": "execute_result",
          "data": {
            "text/plain": [
              "1"
            ]
          },
          "metadata": {},
          "execution_count": 8
        }
      ]
    },
    {
      "cell_type": "code",
      "source": [
        "vector.shape"
      ],
      "metadata": {
        "colab": {
          "base_uri": "https://localhost:8080/"
        },
        "id": "DYvX8sjCu2vV",
        "outputId": "f7e3de8c-150b-445f-a17e-8ba2ce34ea93"
      },
      "execution_count": null,
      "outputs": [
        {
          "output_type": "execute_result",
          "data": {
            "text/plain": [
              "torch.Size([2])"
            ]
          },
          "metadata": {},
          "execution_count": 9
        }
      ]
    },
    {
      "cell_type": "code",
      "source": [
        "#Matrix\n",
        "MATRIX = torch.tensor([[7,8],\n",
        "                        [9,10]])\n",
        "MATRIX.ndim"
      ],
      "metadata": {
        "colab": {
          "base_uri": "https://localhost:8080/"
        },
        "id": "7R_BDz2Tu-4J",
        "outputId": "d7d32ed1-a403-4827-d78d-7484248c6d85"
      },
      "execution_count": null,
      "outputs": [
        {
          "output_type": "execute_result",
          "data": {
            "text/plain": [
              "2"
            ]
          },
          "metadata": {},
          "execution_count": 10
        }
      ]
    },
    {
      "cell_type": "code",
      "source": [
        "MATRIX[0]\n"
      ],
      "metadata": {
        "id": "hux5IiqqvA-V",
        "colab": {
          "base_uri": "https://localhost:8080/"
        },
        "outputId": "eaa683ee-f880-49ac-ebb9-749064a2ecd6"
      },
      "execution_count": null,
      "outputs": [
        {
          "output_type": "execute_result",
          "data": {
            "text/plain": [
              "tensor([7, 8])"
            ]
          },
          "metadata": {},
          "execution_count": 11
        }
      ]
    },
    {
      "cell_type": "code",
      "source": [
        "MATRIX.shape\n"
      ],
      "metadata": {
        "colab": {
          "base_uri": "https://localhost:8080/"
        },
        "id": "WpQWFpcsvekw",
        "outputId": "c488826b-8ebe-4e27-c053-a326c81a17f7"
      },
      "execution_count": null,
      "outputs": [
        {
          "output_type": "execute_result",
          "data": {
            "text/plain": [
              "torch.Size([2, 2])"
            ]
          },
          "metadata": {},
          "execution_count": 12
        }
      ]
    },
    {
      "cell_type": "code",
      "source": [
        "# Tensor\n",
        "TENSOR = torch.tensor([[[1,2,3],\n",
        "                        [4,5,6],\n",
        "                        [3,4,5]]])\n",
        "TENSOR"
      ],
      "metadata": {
        "colab": {
          "base_uri": "https://localhost:8080/"
        },
        "id": "vDR7JMtcvhxr",
        "outputId": "753f3bc0-ec91-49ce-b004-caec6ac08f7e"
      },
      "execution_count": null,
      "outputs": [
        {
          "output_type": "execute_result",
          "data": {
            "text/plain": [
              "tensor([[[1, 2, 3],\n",
              "         [4, 5, 6],\n",
              "         [3, 4, 5]]])"
            ]
          },
          "metadata": {},
          "execution_count": 13
        }
      ]
    },
    {
      "cell_type": "code",
      "source": [
        "TENSOR.ndim"
      ],
      "metadata": {
        "colab": {
          "base_uri": "https://localhost:8080/"
        },
        "id": "0Vwfjgn4vyJW",
        "outputId": "00f987e4-9c7b-46f8-81bd-cb2578a32ee6"
      },
      "execution_count": null,
      "outputs": [
        {
          "output_type": "execute_result",
          "data": {
            "text/plain": [
              "3"
            ]
          },
          "metadata": {},
          "execution_count": 14
        }
      ]
    },
    {
      "cell_type": "code",
      "source": [
        "TENSOR.shape"
      ],
      "metadata": {
        "colab": {
          "base_uri": "https://localhost:8080/"
        },
        "id": "cOpjgDu1v28_",
        "outputId": "77410f0c-ed6a-46c8-c284-e7502b2c49bf"
      },
      "execution_count": null,
      "outputs": [
        {
          "output_type": "execute_result",
          "data": {
            "text/plain": [
              "torch.Size([1, 3, 3])"
            ]
          },
          "metadata": {},
          "execution_count": 15
        }
      ]
    },
    {
      "cell_type": "code",
      "source": [
        "TENSOR[0]"
      ],
      "metadata": {
        "colab": {
          "base_uri": "https://localhost:8080/"
        },
        "id": "4_-p0IXawH6V",
        "outputId": "5db2f56a-4278-4d71-c78e-8430f50a3c2b"
      },
      "execution_count": null,
      "outputs": [
        {
          "output_type": "execute_result",
          "data": {
            "text/plain": [
              "tensor([[1, 2, 3],\n",
              "        [4, 5, 6],\n",
              "        [3, 4, 5]])"
            ]
          },
          "metadata": {},
          "execution_count": 16
        }
      ]
    },
    {
      "cell_type": "code",
      "source": [
        "# Create a random tensor of size (3,4)\n",
        "random_tensor = torch.rand(3,4)\n",
        "random_tensor"
      ],
      "metadata": {
        "colab": {
          "base_uri": "https://localhost:8080/"
        },
        "id": "78aXwhNBwa4X",
        "outputId": "b48c4316-a9bb-476c-ab15-ddccca5abf56"
      },
      "execution_count": null,
      "outputs": [
        {
          "output_type": "execute_result",
          "data": {
            "text/plain": [
              "tensor([[0.6049, 0.6409, 0.0021, 0.6232],\n",
              "        [0.0729, 0.2070, 0.0497, 0.5547],\n",
              "        [0.2842, 0.2147, 0.0136, 0.3353]])"
            ]
          },
          "metadata": {},
          "execution_count": 17
        }
      ]
    },
    {
      "cell_type": "code",
      "source": [
        "random_tensor.ndim"
      ],
      "metadata": {
        "colab": {
          "base_uri": "https://localhost:8080/"
        },
        "id": "To2hM71px5kC",
        "outputId": "2eca74a3-5dd7-4f16-a37e-8b10bf2be3af"
      },
      "execution_count": null,
      "outputs": [
        {
          "output_type": "execute_result",
          "data": {
            "text/plain": [
              "2"
            ]
          },
          "metadata": {},
          "execution_count": 18
        }
      ]
    },
    {
      "cell_type": "code",
      "source": [
        "random_tensor.shape"
      ],
      "metadata": {
        "colab": {
          "base_uri": "https://localhost:8080/"
        },
        "id": "QAV-A3tYx9Yw",
        "outputId": "4a11ebab-b295-4ed4-82d1-3f4cfba57669"
      },
      "execution_count": null,
      "outputs": [
        {
          "output_type": "execute_result",
          "data": {
            "text/plain": [
              "torch.Size([3, 4])"
            ]
          },
          "metadata": {},
          "execution_count": 19
        }
      ]
    },
    {
      "cell_type": "code",
      "source": [
        "random_tensor = torch.rand(10, 10,10)\n",
        "random_tensor"
      ],
      "metadata": {
        "colab": {
          "base_uri": "https://localhost:8080/"
        },
        "id": "mAbe2hQqyCID",
        "outputId": "c6f32418-7769-480b-b61e-35cb2d81e262"
      },
      "execution_count": null,
      "outputs": [
        {
          "output_type": "execute_result",
          "data": {
            "text/plain": [
              "tensor([[[7.2204e-01, 2.9740e-01, 4.2661e-01, 9.9980e-01, 7.4638e-01,\n",
              "          8.2128e-01, 7.5878e-01, 1.2630e-03, 7.4578e-01, 2.0046e-01],\n",
              "         [3.0050e-02, 4.8448e-01, 8.8082e-03, 2.5060e-02, 9.0733e-01,\n",
              "          4.6985e-01, 5.1409e-01, 6.7004e-01, 4.3960e-01, 5.1622e-01],\n",
              "         [5.4920e-01, 2.8710e-01, 5.8385e-01, 7.4299e-01, 5.4327e-01,\n",
              "          6.9656e-02, 5.9974e-02, 2.7379e-01, 6.5467e-01, 1.7275e-01],\n",
              "         [7.9898e-01, 4.8543e-01, 5.2543e-01, 7.2448e-01, 8.5064e-01,\n",
              "          3.5065e-01, 3.8493e-01, 5.2931e-01, 9.2708e-02, 1.5099e-02],\n",
              "         [7.5335e-01, 6.1854e-02, 2.5460e-01, 1.9804e-01, 7.5320e-01,\n",
              "          3.4962e-01, 4.8453e-01, 5.4598e-01, 3.3846e-02, 3.6677e-01],\n",
              "         [5.9570e-01, 5.4880e-01, 6.3690e-01, 1.5807e-01, 4.0633e-01,\n",
              "          8.2459e-01, 5.9529e-01, 6.3152e-01, 6.6476e-01, 7.8736e-01],\n",
              "         [9.6285e-01, 6.6553e-01, 3.5451e-01, 6.3369e-01, 4.4382e-01,\n",
              "          7.9474e-01, 7.2040e-01, 3.9701e-01, 1.6638e-01, 1.6680e-01],\n",
              "         [4.1853e-01, 6.3550e-01, 8.7567e-01, 3.9119e-01, 3.8030e-02,\n",
              "          8.5249e-01, 6.1789e-01, 1.7168e-01, 8.1605e-01, 9.6518e-01],\n",
              "         [4.2206e-01, 4.3766e-01, 4.7400e-01, 7.3809e-02, 8.5719e-01,\n",
              "          2.2232e-01, 5.0331e-01, 4.3707e-01, 8.0519e-02, 2.3995e-01],\n",
              "         [7.6268e-01, 7.6345e-01, 9.9415e-01, 3.3807e-01, 2.9357e-01,\n",
              "          6.7964e-02, 1.0283e-01, 8.9885e-01, 9.1663e-02, 9.8497e-01]],\n",
              "\n",
              "        [[3.9127e-01, 9.1035e-01, 3.2332e-01, 5.7671e-01, 4.6159e-01,\n",
              "          6.9679e-01, 1.5524e-01, 7.9994e-01, 6.1931e-01, 1.9139e-01],\n",
              "         [5.7148e-01, 7.8698e-01, 5.0579e-01, 2.0495e-01, 6.8357e-01,\n",
              "          2.9506e-01, 6.7899e-01, 6.6408e-01, 6.4241e-02, 3.9325e-01],\n",
              "         [7.7115e-01, 6.1020e-01, 9.9627e-01, 4.8198e-02, 9.1186e-01,\n",
              "          4.9318e-01, 8.1711e-01, 9.8102e-01, 4.1479e-01, 6.4967e-01],\n",
              "         [3.4991e-01, 8.0148e-02, 8.8427e-01, 4.0907e-01, 8.6066e-01,\n",
              "          4.0977e-01, 9.4942e-01, 1.0278e-01, 7.5240e-01, 6.4486e-04],\n",
              "         [7.2249e-01, 5.9469e-01, 4.1457e-02, 1.6229e-01, 3.8765e-01,\n",
              "          3.5548e-01, 5.7369e-01, 2.8225e-01, 1.7212e-01, 4.2785e-01],\n",
              "         [9.0639e-01, 1.3935e-01, 9.9123e-01, 6.7485e-01, 2.0826e-01,\n",
              "          9.5108e-01, 5.4603e-01, 7.0443e-01, 7.9300e-01, 4.8011e-01],\n",
              "         [9.9887e-01, 9.5187e-01, 1.0127e-02, 9.1565e-01, 8.6330e-01,\n",
              "          5.5501e-01, 4.3741e-01, 8.0626e-01, 7.4248e-01, 5.2135e-01],\n",
              "         [4.8524e-01, 8.4589e-01, 4.1268e-01, 2.1225e-01, 2.2872e-02,\n",
              "          8.6585e-01, 2.7762e-01, 8.8127e-02, 9.9166e-01, 5.9830e-01],\n",
              "         [4.2497e-01, 8.5715e-01, 5.0016e-02, 5.0833e-01, 1.5171e-01,\n",
              "          2.3288e-01, 2.6829e-01, 6.5588e-01, 7.8217e-02, 9.6973e-01],\n",
              "         [6.0246e-01, 4.2144e-01, 3.5725e-01, 1.8600e-01, 5.2436e-01,\n",
              "          7.1861e-01, 2.7783e-01, 3.0357e-01, 2.0452e-01, 7.4918e-02]],\n",
              "\n",
              "        [[4.3096e-01, 6.3912e-01, 5.8426e-01, 1.9975e-01, 7.5568e-01,\n",
              "          1.0949e-01, 9.4529e-01, 7.8298e-01, 5.0518e-01, 3.4391e-01],\n",
              "         [3.5187e-01, 3.9914e-01, 1.5458e-01, 6.8685e-01, 1.0085e-01,\n",
              "          5.9946e-01, 5.1457e-01, 9.8679e-01, 2.3125e-01, 3.1329e-01],\n",
              "         [9.0115e-01, 9.8148e-01, 1.6402e-01, 3.7661e-01, 3.2672e-01,\n",
              "          6.0029e-01, 1.6312e-01, 3.1053e-01, 5.9613e-01, 1.7682e-01],\n",
              "         [3.7186e-01, 7.0581e-01, 7.5901e-01, 8.9283e-01, 4.0394e-01,\n",
              "          1.6779e-01, 4.9180e-01, 7.9768e-01, 8.5253e-02, 6.1849e-01],\n",
              "         [3.9381e-02, 6.2530e-01, 5.7556e-01, 5.8907e-01, 5.4829e-01,\n",
              "          4.1738e-01, 3.2462e-01, 1.1353e-02, 4.0320e-01, 2.1689e-01],\n",
              "         [9.6666e-01, 2.2835e-01, 9.8945e-01, 5.9281e-01, 4.0502e-01,\n",
              "          6.7744e-01, 2.3668e-01, 2.4378e-01, 8.9607e-02, 1.2607e-01],\n",
              "         [8.2742e-01, 9.9900e-02, 4.7444e-01, 9.0508e-01, 2.0670e-01,\n",
              "          7.5338e-01, 7.0166e-01, 5.0904e-01, 5.9488e-01, 1.4548e-01],\n",
              "         [6.3893e-01, 3.8318e-01, 4.3885e-01, 8.4409e-01, 8.2405e-01,\n",
              "          6.9321e-01, 2.2800e-01, 1.4674e-01, 6.3648e-01, 7.0349e-01],\n",
              "         [4.5801e-01, 9.5049e-01, 5.4895e-01, 8.5630e-01, 3.6347e-01,\n",
              "          8.9161e-01, 1.5532e-02, 2.8189e-01, 6.5487e-01, 4.0912e-01],\n",
              "         [3.3135e-01, 6.3498e-01, 2.6780e-01, 5.6037e-01, 4.9371e-01,\n",
              "          3.9828e-01, 5.2682e-01, 6.6462e-03, 9.0312e-01, 3.5537e-01]],\n",
              "\n",
              "        [[7.7179e-01, 3.2476e-01, 5.6470e-01, 9.6346e-02, 6.3511e-01,\n",
              "          9.7218e-01, 3.8511e-01, 4.5894e-01, 5.3401e-01, 8.6036e-01],\n",
              "         [3.7921e-01, 1.4031e-01, 1.1709e-01, 2.2960e-01, 3.1607e-01,\n",
              "          6.5441e-01, 3.5676e-01, 7.0460e-01, 7.2740e-02, 2.5888e-01],\n",
              "         [5.3811e-01, 8.8470e-01, 8.5578e-01, 2.6995e-01, 6.7831e-01,\n",
              "          3.3803e-01, 8.3839e-01, 4.7863e-01, 6.5255e-01, 1.3217e-01],\n",
              "         [3.9399e-01, 6.8720e-01, 7.5788e-02, 7.3371e-01, 8.6546e-01,\n",
              "          5.1921e-01, 5.8261e-01, 5.5602e-01, 1.7544e-01, 4.5146e-01],\n",
              "         [5.3836e-01, 5.8003e-01, 1.9362e-01, 2.0430e-01, 7.8516e-01,\n",
              "          5.8852e-01, 6.2271e-01, 8.9038e-01, 3.2621e-01, 8.4627e-01],\n",
              "         [6.5008e-01, 2.8143e-01, 6.8604e-02, 6.6868e-01, 9.0446e-01,\n",
              "          1.2921e-01, 8.1972e-01, 5.4544e-01, 8.5709e-02, 6.8012e-01],\n",
              "         [1.0834e-01, 6.4651e-01, 3.3028e-01, 6.6192e-01, 6.0363e-01,\n",
              "          9.8016e-01, 1.0119e-01, 3.9352e-01, 6.4716e-01, 7.1244e-01],\n",
              "         [2.6821e-01, 8.8797e-01, 4.4095e-01, 9.6358e-01, 5.9880e-02,\n",
              "          5.7981e-01, 8.8383e-01, 9.6336e-01, 4.8070e-01, 1.3443e-01],\n",
              "         [4.6199e-01, 9.7476e-01, 4.2737e-02, 1.5940e-02, 4.4483e-01,\n",
              "          5.9085e-01, 9.2280e-01, 3.0808e-01, 5.3668e-01, 5.5783e-01],\n",
              "         [1.8149e-01, 6.3679e-01, 9.7397e-02, 1.2318e-01, 6.5992e-01,\n",
              "          9.9940e-01, 9.6720e-01, 3.9652e-01, 9.8950e-01, 1.7729e-02]],\n",
              "\n",
              "        [[2.9971e-01, 8.3125e-01, 1.8142e-01, 8.9285e-01, 4.9646e-01,\n",
              "          9.5026e-01, 7.7306e-01, 9.0335e-01, 3.8715e-01, 4.8803e-01],\n",
              "         [3.1096e-01, 8.2758e-01, 4.0170e-01, 7.8732e-01, 1.0373e-01,\n",
              "          1.0613e-01, 2.5530e-01, 9.4636e-01, 7.9731e-01, 7.2243e-01],\n",
              "         [1.2846e-02, 1.8860e-01, 4.8195e-01, 1.9240e-01, 3.3725e-01,\n",
              "          2.7946e-01, 9.1693e-01, 2.7433e-01, 5.4806e-01, 6.8563e-01],\n",
              "         [4.5475e-01, 3.7613e-01, 3.2816e-01, 4.2496e-02, 8.3277e-01,\n",
              "          2.5669e-01, 6.7125e-01, 3.2992e-01, 9.7721e-01, 7.0222e-01],\n",
              "         [4.4396e-01, 6.5660e-02, 4.9760e-02, 4.2852e-01, 7.3024e-01,\n",
              "          6.0666e-01, 2.2025e-01, 5.1513e-01, 5.9485e-01, 6.4677e-01],\n",
              "         [3.4868e-01, 9.9684e-01, 1.1813e-01, 3.6461e-01, 5.9285e-02,\n",
              "          5.1786e-01, 9.6449e-01, 2.6310e-01, 4.0156e-01, 1.1961e-01],\n",
              "         [3.2242e-01, 5.9693e-01, 8.3539e-01, 8.7133e-01, 3.3189e-01,\n",
              "          5.8413e-01, 2.9547e-01, 7.7683e-01, 5.7500e-01, 5.5577e-01],\n",
              "         [6.8401e-01, 1.5668e-02, 3.8230e-01, 9.1417e-01, 2.2023e-01,\n",
              "          6.3986e-01, 7.4268e-01, 7.2367e-02, 6.3767e-01, 5.3413e-02],\n",
              "         [6.4376e-01, 4.2107e-01, 2.5054e-01, 9.6721e-01, 5.5654e-01,\n",
              "          5.0436e-02, 3.9478e-01, 9.4330e-01, 3.9266e-01, 6.1196e-01],\n",
              "         [2.1867e-01, 8.0088e-01, 7.2045e-01, 3.2876e-01, 3.7114e-01,\n",
              "          7.1691e-01, 9.5173e-01, 4.7286e-01, 5.5360e-01, 8.7163e-01]],\n",
              "\n",
              "        [[8.9300e-02, 7.4638e-01, 5.7776e-01, 2.2256e-01, 6.0604e-03,\n",
              "          5.1695e-02, 1.6466e-01, 9.8643e-01, 3.2586e-01, 9.3055e-01],\n",
              "         [1.8703e-01, 9.7236e-01, 3.1371e-01, 4.7129e-01, 3.0131e-03,\n",
              "          8.5959e-01, 3.2885e-01, 7.4936e-01, 9.9854e-01, 9.6292e-01],\n",
              "         [1.3729e-01, 4.9247e-01, 4.4954e-01, 7.1914e-01, 7.8475e-01,\n",
              "          2.2001e-01, 9.5022e-01, 7.3191e-01, 3.3595e-01, 5.6780e-01],\n",
              "         [5.5451e-02, 6.6543e-01, 1.0950e-01, 4.3001e-01, 1.4378e-01,\n",
              "          5.8391e-01, 7.1535e-01, 8.1089e-01, 5.5228e-01, 1.0520e-01],\n",
              "         [5.5236e-01, 7.7757e-01, 2.6592e-01, 5.6277e-01, 5.1965e-01,\n",
              "          9.3787e-01, 6.3182e-01, 4.8484e-01, 1.7554e-01, 2.3609e-01],\n",
              "         [5.2939e-01, 2.1129e-01, 6.0413e-01, 8.1650e-01, 3.8869e-01,\n",
              "          6.1307e-01, 9.5199e-01, 9.6017e-01, 1.0116e-01, 2.6408e-01],\n",
              "         [4.8470e-01, 4.7570e-01, 2.3270e-01, 8.6373e-01, 5.6803e-01,\n",
              "          6.7483e-02, 1.3151e-01, 2.2363e-01, 7.4766e-01, 8.4893e-01],\n",
              "         [7.3897e-02, 3.2441e-01, 9.8128e-01, 6.4275e-01, 1.3809e-02,\n",
              "          8.0519e-01, 3.0541e-01, 3.4700e-02, 2.0435e-01, 4.3864e-01],\n",
              "         [5.5062e-01, 1.7661e-01, 3.3478e-02, 9.1001e-01, 1.1138e-01,\n",
              "          7.5271e-01, 5.1249e-01, 8.0150e-01, 9.0653e-01, 1.9305e-02],\n",
              "         [2.4599e-01, 5.5289e-01, 2.8467e-01, 8.9028e-01, 3.6782e-01,\n",
              "          8.6611e-01, 3.4845e-01, 8.9091e-02, 8.0355e-01, 6.2072e-01]],\n",
              "\n",
              "        [[5.2389e-01, 5.5224e-01, 6.1608e-01, 9.4374e-01, 9.4291e-01,\n",
              "          7.6528e-01, 8.9791e-01, 3.3560e-01, 3.2224e-01, 3.8318e-01],\n",
              "         [3.5852e-01, 2.4455e-01, 3.7294e-01, 1.5792e-01, 1.3940e-01,\n",
              "          7.5493e-01, 5.6731e-01, 8.0741e-01, 9.9763e-01, 4.3718e-01],\n",
              "         [4.3199e-01, 4.1812e-01, 4.1010e-01, 1.3318e-01, 2.6847e-01,\n",
              "          7.2313e-01, 2.8018e-01, 5.1733e-01, 1.5959e-01, 8.1863e-01],\n",
              "         [2.4158e-01, 7.8460e-01, 8.2984e-02, 5.7804e-01, 9.7429e-02,\n",
              "          9.9114e-01, 9.7621e-01, 8.5960e-01, 3.3027e-01, 3.4225e-01],\n",
              "         [3.8700e-01, 9.1239e-01, 5.2840e-01, 9.3912e-01, 3.1412e-01,\n",
              "          1.2013e-02, 4.7793e-01, 3.2157e-01, 3.4566e-01, 7.0446e-01],\n",
              "         [8.7790e-01, 2.5712e-01, 5.4830e-01, 4.3338e-01, 5.2319e-01,\n",
              "          7.3359e-01, 4.4160e-02, 9.4083e-01, 5.2419e-01, 5.5418e-01],\n",
              "         [7.7730e-01, 4.8895e-01, 7.9913e-01, 9.0693e-01, 1.4178e-01,\n",
              "          4.1107e-01, 2.3212e-01, 1.1180e-01, 3.2577e-01, 8.0240e-01],\n",
              "         [1.6959e-01, 9.4290e-01, 4.8659e-01, 7.4181e-01, 8.5656e-02,\n",
              "          4.5336e-01, 1.3846e-01, 9.1244e-01, 8.4045e-01, 2.2890e-01],\n",
              "         [7.7429e-01, 2.9540e-01, 4.9904e-01, 3.8863e-02, 5.7382e-01,\n",
              "          8.8005e-01, 4.4982e-01, 4.5519e-01, 9.6775e-01, 8.6710e-01],\n",
              "         [8.7253e-01, 8.1835e-01, 3.7737e-01, 8.2843e-01, 4.5718e-01,\n",
              "          6.4526e-01, 9.2203e-01, 5.0149e-01, 2.4896e-01, 1.6032e-01]],\n",
              "\n",
              "        [[2.6962e-01, 9.1477e-01, 5.4869e-01, 3.5496e-01, 6.3676e-01,\n",
              "          6.3290e-01, 3.3532e-01, 4.6412e-02, 5.2682e-02, 7.7230e-01],\n",
              "         [8.5401e-02, 6.9404e-01, 6.5239e-01, 6.7273e-01, 2.4377e-01,\n",
              "          5.6069e-01, 5.2944e-01, 9.3205e-02, 6.2301e-01, 2.3217e-01],\n",
              "         [5.8787e-01, 4.9019e-01, 6.5735e-01, 9.8144e-01, 7.3671e-01,\n",
              "          1.3342e-01, 3.4408e-01, 3.3523e-01, 9.1685e-01, 2.9140e-01],\n",
              "         [1.6263e-01, 8.8499e-01, 3.2383e-02, 1.9942e-01, 5.6733e-01,\n",
              "          3.4571e-01, 4.2259e-02, 3.1661e-01, 8.4425e-02, 4.7283e-01],\n",
              "         [2.5783e-01, 4.0115e-01, 2.2169e-01, 3.4556e-01, 9.2243e-01,\n",
              "          9.5852e-01, 3.9837e-01, 9.1261e-01, 3.7242e-01, 9.0756e-01],\n",
              "         [8.2430e-01, 1.3720e-01, 2.9161e-01, 8.1157e-01, 3.1710e-01,\n",
              "          3.8287e-01, 2.0725e-01, 5.2709e-01, 6.1899e-01, 8.2041e-01],\n",
              "         [5.0504e-01, 4.2668e-01, 7.7852e-01, 1.1805e-01, 1.6999e-03,\n",
              "          3.7230e-01, 9.5777e-01, 9.4225e-01, 7.6847e-01, 9.8418e-01],\n",
              "         [7.9009e-01, 8.0139e-01, 8.0279e-01, 6.0523e-01, 2.8403e-01,\n",
              "          1.2587e-01, 9.9196e-01, 5.8138e-01, 7.3071e-01, 2.9969e-01],\n",
              "         [6.5633e-01, 1.8258e-01, 6.4354e-01, 9.2944e-01, 8.2974e-01,\n",
              "          9.7519e-01, 2.9959e-01, 6.0164e-01, 3.9117e-02, 5.5723e-03],\n",
              "         [3.5706e-01, 9.5893e-01, 8.9184e-01, 6.2239e-01, 4.3177e-01,\n",
              "          7.8842e-01, 8.1200e-01, 2.5570e-01, 2.2353e-01, 6.5364e-01]],\n",
              "\n",
              "        [[2.9778e-01, 3.4195e-01, 5.4561e-01, 9.0898e-01, 5.7577e-01,\n",
              "          8.3325e-01, 1.4444e-01, 7.0643e-01, 4.3957e-01, 9.7063e-01],\n",
              "         [8.4946e-01, 5.6275e-01, 2.1117e-01, 8.2489e-02, 1.6086e-01,\n",
              "          6.0871e-01, 9.2229e-01, 1.1909e-01, 6.4312e-01, 7.9610e-01],\n",
              "         [7.3388e-01, 9.9338e-02, 7.6773e-01, 3.0985e-01, 6.8536e-01,\n",
              "          5.3384e-01, 7.3431e-01, 2.9674e-02, 1.5289e-01, 5.7125e-01],\n",
              "         [3.6137e-01, 5.7767e-01, 9.2877e-01, 4.6200e-01, 2.7503e-01,\n",
              "          9.3139e-01, 4.9996e-01, 3.9438e-01, 5.1348e-01, 6.9804e-01],\n",
              "         [2.8870e-01, 4.7555e-01, 2.7512e-01, 8.2043e-01, 2.3085e-01,\n",
              "          6.2063e-01, 6.8149e-01, 4.4714e-01, 7.9288e-01, 3.2022e-01],\n",
              "         [8.7699e-01, 7.5308e-01, 4.3435e-02, 6.3350e-01, 9.4134e-01,\n",
              "          8.2710e-01, 6.8818e-01, 3.4216e-01, 4.5181e-01, 6.6790e-01],\n",
              "         [9.3133e-01, 1.2257e-02, 2.2200e-01, 6.7211e-01, 7.7564e-01,\n",
              "          8.6544e-01, 1.3152e-01, 2.3575e-01, 5.6205e-01, 3.9315e-01],\n",
              "         [6.8708e-01, 4.0587e-02, 5.0013e-01, 5.8270e-01, 2.9869e-01,\n",
              "          6.1023e-02, 8.4983e-01, 1.9851e-01, 8.3825e-01, 2.7651e-01],\n",
              "         [6.6227e-01, 9.6929e-01, 3.1683e-01, 5.5836e-01, 9.8584e-01,\n",
              "          3.0434e-01, 7.8445e-01, 2.3453e-01, 3.7903e-02, 1.6295e-01],\n",
              "         [1.6221e-01, 2.3323e-01, 7.5674e-01, 8.3477e-01, 8.6865e-01,\n",
              "          5.1317e-01, 8.9907e-01, 9.4205e-02, 1.0096e-01, 6.7693e-01]],\n",
              "\n",
              "        [[8.4292e-01, 3.6748e-01, 1.4714e-01, 4.0306e-01, 2.2164e-02,\n",
              "          3.1368e-01, 5.7688e-01, 9.0476e-01, 7.4778e-01, 8.3282e-01],\n",
              "         [6.9340e-02, 4.5956e-01, 5.6106e-01, 6.8107e-01, 7.7841e-01,\n",
              "          7.6174e-01, 2.6874e-01, 2.0978e-01, 6.1300e-02, 2.0715e-01],\n",
              "         [9.4138e-01, 9.6126e-03, 7.8234e-01, 6.6585e-01, 6.0655e-01,\n",
              "          2.2978e-01, 3.7971e-01, 7.1888e-01, 6.0238e-01, 1.1311e-01],\n",
              "         [9.2588e-01, 9.8359e-01, 3.8953e-01, 6.1006e-01, 9.9575e-01,\n",
              "          3.2888e-01, 3.7322e-01, 6.2032e-02, 6.4288e-01, 2.2603e-01],\n",
              "         [5.0962e-01, 6.5604e-01, 5.1955e-01, 4.9358e-01, 4.0431e-01,\n",
              "          6.1577e-01, 3.4416e-01, 1.4373e-01, 3.3363e-01, 1.6676e-01],\n",
              "         [1.0185e-01, 1.4988e-01, 6.7645e-01, 3.1643e-01, 3.2040e-01,\n",
              "          4.2219e-01, 2.6290e-01, 2.2170e-01, 5.8629e-01, 7.7118e-01],\n",
              "         [1.5218e-01, 7.2844e-01, 1.8888e-02, 8.5664e-01, 1.5417e-01,\n",
              "          6.7612e-01, 9.7768e-03, 2.8731e-01, 4.1872e-01, 8.4352e-01],\n",
              "         [3.1665e-01, 2.8318e-01, 4.1375e-02, 6.9098e-01, 8.0464e-02,\n",
              "          5.4898e-01, 7.2722e-01, 9.7120e-01, 8.3821e-01, 9.1302e-01],\n",
              "         [8.8822e-01, 5.6574e-01, 1.1379e-01, 6.9442e-01, 5.3886e-01,\n",
              "          7.3215e-01, 4.4196e-01, 4.8205e-01, 1.5286e-01, 8.4403e-01],\n",
              "         [9.3469e-01, 2.4909e-01, 2.1816e-01, 9.7029e-01, 8.0007e-01,\n",
              "          6.8709e-01, 8.0148e-01, 1.3074e-01, 2.2715e-01, 4.0703e-01]]])"
            ]
          },
          "metadata": {},
          "execution_count": 20
        }
      ]
    },
    {
      "cell_type": "code",
      "source": [
        "# Create a random tensor with similar shape to an imagen tensor\n",
        "\n",
        "random_imagen_size_tensor = torch.rand(size=(224, 224, 3)) #height, width, colour channel\n",
        "random_imagen_size_tensor.shape, random_imagen_size_tensor.ndim"
      ],
      "metadata": {
        "colab": {
          "base_uri": "https://localhost:8080/"
        },
        "id": "oSL6BdVGyRsc",
        "outputId": "14ebcd82-7745-4b16-c48a-f757ea2a5406"
      },
      "execution_count": null,
      "outputs": [
        {
          "output_type": "execute_result",
          "data": {
            "text/plain": [
              "(torch.Size([224, 224, 3]), 3)"
            ]
          },
          "metadata": {},
          "execution_count": 21
        }
      ]
    },
    {
      "cell_type": "code",
      "source": [
        "torch.rand(3,3)"
      ],
      "metadata": {
        "colab": {
          "base_uri": "https://localhost:8080/"
        },
        "id": "hP_aR87hzJ9H",
        "outputId": "4cb55d51-5f7f-49b7-baca-15b4ce041fdc"
      },
      "execution_count": null,
      "outputs": [
        {
          "output_type": "execute_result",
          "data": {
            "text/plain": [
              "tensor([[0.6589, 0.9048, 0.2724],\n",
              "        [0.7850, 0.3994, 0.4087],\n",
              "        [0.0578, 0.8530, 0.6402]])"
            ]
          },
          "metadata": {},
          "execution_count": 22
        }
      ]
    },
    {
      "cell_type": "markdown",
      "source": [
        "### Zeros and ones"
      ],
      "metadata": {
        "id": "6Pge-fDXzSnF"
      }
    },
    {
      "cell_type": "code",
      "source": [
        "# Create a tensor of all zeros\n",
        "zeros = torch.zeros(size=(3,4))\n",
        "zeros"
      ],
      "metadata": {
        "colab": {
          "base_uri": "https://localhost:8080/"
        },
        "id": "an3IT8UqzWlP",
        "outputId": "fe00e4c5-0da7-42fb-cd93-6c10f3c7de2e"
      },
      "execution_count": null,
      "outputs": [
        {
          "output_type": "execute_result",
          "data": {
            "text/plain": [
              "tensor([[0., 0., 0., 0.],\n",
              "        [0., 0., 0., 0.],\n",
              "        [0., 0., 0., 0.]])"
            ]
          },
          "metadata": {},
          "execution_count": 23
        }
      ]
    },
    {
      "cell_type": "code",
      "source": [
        "random_tensor = torch.rand(3,4)\n",
        "zeros * random_tensor\n"
      ],
      "metadata": {
        "colab": {
          "base_uri": "https://localhost:8080/"
        },
        "id": "UPGLiUBnzfug",
        "outputId": "e30cffc7-2336-4104-d146-921fffaf27b9"
      },
      "execution_count": null,
      "outputs": [
        {
          "output_type": "execute_result",
          "data": {
            "text/plain": [
              "tensor([[0., 0., 0., 0.],\n",
              "        [0., 0., 0., 0.],\n",
              "        [0., 0., 0., 0.]])"
            ]
          },
          "metadata": {},
          "execution_count": 24
        }
      ]
    },
    {
      "cell_type": "code",
      "source": [
        "# Create a tensor of all ones\n",
        "ones = torch.ones(3,4)\n",
        "ones"
      ],
      "metadata": {
        "colab": {
          "base_uri": "https://localhost:8080/"
        },
        "id": "6mfMhWPgzuoh",
        "outputId": "b182a2ab-c7b6-4668-8310-9aee4deb8a5e"
      },
      "execution_count": null,
      "outputs": [
        {
          "output_type": "execute_result",
          "data": {
            "text/plain": [
              "tensor([[1., 1., 1., 1.],\n",
              "        [1., 1., 1., 1.],\n",
              "        [1., 1., 1., 1.]])"
            ]
          },
          "metadata": {},
          "execution_count": 25
        }
      ]
    },
    {
      "cell_type": "code",
      "source": [
        "ones.dtype"
      ],
      "metadata": {
        "id": "Ia4er9Zbz0Rl",
        "outputId": "8a324917-83f6-423e-e260-8012e92d31e5",
        "colab": {
          "base_uri": "https://localhost:8080/"
        }
      },
      "execution_count": null,
      "outputs": [
        {
          "output_type": "execute_result",
          "data": {
            "text/plain": [
              "torch.float32"
            ]
          },
          "metadata": {},
          "execution_count": 26
        }
      ]
    },
    {
      "cell_type": "markdown",
      "source": [
        "### Creating a range of tensors and tensors-like"
      ],
      "metadata": {
        "id": "_P6ofsKwz2-X"
      }
    },
    {
      "cell_type": "code",
      "source": [
        "one_to_ten = torch.arange(start=0, end=10, step=1)\n",
        "one_to_ten"
      ],
      "metadata": {
        "colab": {
          "base_uri": "https://localhost:8080/"
        },
        "id": "TjFg7E5bdt2V",
        "outputId": "4e93e86d-e844-412a-c0ba-cb7b66b5d97d"
      },
      "execution_count": null,
      "outputs": [
        {
          "output_type": "execute_result",
          "data": {
            "text/plain": [
              "tensor([0, 1, 2, 3, 4, 5, 6, 7, 8, 9])"
            ]
          },
          "metadata": {},
          "execution_count": 27
        }
      ]
    },
    {
      "cell_type": "code",
      "source": [
        "torch.__version__"
      ],
      "metadata": {
        "colab": {
          "base_uri": "https://localhost:8080/",
          "height": 35
        },
        "id": "jSIz0m-5d-y9",
        "outputId": "5fd0ce8a-3ba1-4c34-fe59-d4676abb0f99"
      },
      "execution_count": null,
      "outputs": [
        {
          "output_type": "execute_result",
          "data": {
            "text/plain": [
              "'2.3.1+cu121'"
            ],
            "application/vnd.google.colaboratory.intrinsic+json": {
              "type": "string"
            }
          },
          "metadata": {},
          "execution_count": 28
        }
      ]
    },
    {
      "cell_type": "code",
      "source": [
        "# Creating tensors like\n",
        "ten_zeros = torch.zeros_like(input=one_to_ten)\n",
        "ten_zeros"
      ],
      "metadata": {
        "colab": {
          "base_uri": "https://localhost:8080/"
        },
        "id": "-7OxwdR1eZpM",
        "outputId": "59cbf8d6-caab-444b-fb1b-db31e93d8307"
      },
      "execution_count": null,
      "outputs": [
        {
          "output_type": "execute_result",
          "data": {
            "text/plain": [
              "tensor([0, 0, 0, 0, 0, 0, 0, 0, 0, 0])"
            ]
          },
          "metadata": {},
          "execution_count": 29
        }
      ]
    },
    {
      "cell_type": "markdown",
      "source": [
        "### Tensor datatypes"
      ],
      "metadata": {
        "id": "PpN0xtTie__4"
      }
    },
    {
      "cell_type": "code",
      "source": [
        "# float 32 tensor\n",
        "float_32_tensor = torch.tensor([3.0, 6.0, 9.0],\n",
        "                               dtype=torch.float32, #datatype\n",
        "                               device=None, # What device is your tensor on\n",
        "                               requires_grad = False) #whether or not to track gradients with this tensors operations\n",
        "float_32_tensor"
      ],
      "metadata": {
        "colab": {
          "base_uri": "https://localhost:8080/"
        },
        "id": "uyHwV9CtfC_L",
        "outputId": "ebe4499e-c126-43d6-dae6-d9bbccc735dc"
      },
      "execution_count": null,
      "outputs": [
        {
          "output_type": "execute_result",
          "data": {
            "text/plain": [
              "tensor([3., 6., 9.])"
            ]
          },
          "metadata": {},
          "execution_count": 30
        }
      ]
    },
    {
      "cell_type": "code",
      "source": [
        "float_16_tensor = float_32_tensor.type(torch.float16)\n",
        "float_16_tensor"
      ],
      "metadata": {
        "colab": {
          "base_uri": "https://localhost:8080/"
        },
        "id": "xVFpNJLOg2mw",
        "outputId": "12b75fef-e953-4157-ef1e-37a71fcb4dba"
      },
      "execution_count": null,
      "outputs": [
        {
          "output_type": "execute_result",
          "data": {
            "text/plain": [
              "tensor([3., 6., 9.], dtype=torch.float16)"
            ]
          },
          "metadata": {},
          "execution_count": 31
        }
      ]
    },
    {
      "cell_type": "code",
      "source": [
        "float_16_tensor * float_32_tensor"
      ],
      "metadata": {
        "colab": {
          "base_uri": "https://localhost:8080/"
        },
        "id": "SUZLXk6DhNkL",
        "outputId": "e142c7ac-1ed3-40a6-cdd0-80b751fcd899"
      },
      "execution_count": null,
      "outputs": [
        {
          "output_type": "execute_result",
          "data": {
            "text/plain": [
              "tensor([ 9., 36., 81.])"
            ]
          },
          "metadata": {},
          "execution_count": 32
        }
      ]
    },
    {
      "cell_type": "code",
      "source": [
        "int_32_tensor = torch.tensor([3, 6, 9], dtype=torch.int32)\n",
        "int_32_tensor"
      ],
      "metadata": {
        "colab": {
          "base_uri": "https://localhost:8080/"
        },
        "id": "5x_13MyThWdc",
        "outputId": "70a755ce-0f7b-4c1b-9ec0-005ca8ac6c85"
      },
      "execution_count": null,
      "outputs": [
        {
          "output_type": "execute_result",
          "data": {
            "text/plain": [
              "tensor([3, 6, 9], dtype=torch.int32)"
            ]
          },
          "metadata": {},
          "execution_count": 33
        }
      ]
    },
    {
      "cell_type": "code",
      "source": [
        "float_32_tensor * int_32_tensor"
      ],
      "metadata": {
        "colab": {
          "base_uri": "https://localhost:8080/"
        },
        "id": "C5JGxWGlhscB",
        "outputId": "9a3c936d-a46f-49ba-9dd1-0be6db067e78"
      },
      "execution_count": null,
      "outputs": [
        {
          "output_type": "execute_result",
          "data": {
            "text/plain": [
              "tensor([ 9., 36., 81.])"
            ]
          },
          "metadata": {},
          "execution_count": 34
        }
      ]
    },
    {
      "cell_type": "markdown",
      "source": [
        "### Getting information from tenses"
      ],
      "metadata": {
        "id": "ijxq5r5XhwO4"
      }
    },
    {
      "cell_type": "code",
      "source": [
        "# Create a tensor\n",
        "some_tensor = torch.rand(3,4)\n",
        "some_tensor\n"
      ],
      "metadata": {
        "colab": {
          "base_uri": "https://localhost:8080/"
        },
        "id": "3VkQiJ4iiH_s",
        "outputId": "c00c6dc9-7cca-47ad-b2f0-dc19818d188f"
      },
      "execution_count": null,
      "outputs": [
        {
          "output_type": "execute_result",
          "data": {
            "text/plain": [
              "tensor([[0.0892, 0.0459, 0.0600, 0.9963],\n",
              "        [0.7576, 0.8934, 0.8916, 0.5912],\n",
              "        [0.1772, 0.5809, 0.1637, 0.2599]])"
            ]
          },
          "metadata": {},
          "execution_count": 35
        }
      ]
    },
    {
      "cell_type": "code",
      "source": [
        "#Find out details about some tensor\n",
        "print(some_tensor)\n",
        "print(f\"Datatype of tensor: {some_tensor.dtype}\")\n",
        "print(f\"Shape of tensor: {some_tensor.size()}\")\n",
        "print(f\"Device tensor is on: {some_tensor.device}\")"
      ],
      "metadata": {
        "colab": {
          "base_uri": "https://localhost:8080/"
        },
        "id": "I7BlBh-bifDi",
        "outputId": "022e84d8-c50d-4a36-b397-965bb18fbbd8"
      },
      "execution_count": null,
      "outputs": [
        {
          "output_type": "stream",
          "name": "stdout",
          "text": [
            "tensor([[0.0892, 0.0459, 0.0600, 0.9963],\n",
            "        [0.7576, 0.8934, 0.8916, 0.5912],\n",
            "        [0.1772, 0.5809, 0.1637, 0.2599]])\n",
            "Datatype of tensor: torch.float32\n",
            "Shape of tensor: torch.Size([3, 4])\n",
            "Device tensor is on: cpu\n"
          ]
        }
      ]
    },
    {
      "cell_type": "markdown",
      "source": [
        "### Manipulatin Tensors (tensor operations)"
      ],
      "metadata": {
        "id": "uiLtZ_s5jOtN"
      }
    },
    {
      "cell_type": "code",
      "source": [
        "# Create a tensor\n",
        "tensor = torch.tensor([1, 2, 3])\n",
        "tensor + 10"
      ],
      "metadata": {
        "colab": {
          "base_uri": "https://localhost:8080/"
        },
        "id": "LUJXD8r8jY3R",
        "outputId": "489745a6-115f-4ebc-e192-d584bc885549"
      },
      "execution_count": null,
      "outputs": [
        {
          "output_type": "execute_result",
          "data": {
            "text/plain": [
              "tensor([11, 12, 13])"
            ]
          },
          "metadata": {},
          "execution_count": 37
        }
      ]
    },
    {
      "cell_type": "code",
      "source": [
        "# Multiply tensor by 10\n",
        "tensor * 10"
      ],
      "metadata": {
        "colab": {
          "base_uri": "https://localhost:8080/"
        },
        "id": "vA8qhXJxj9hV",
        "outputId": "cbaf46b0-7493-416e-e88f-c26eaf59ab24"
      },
      "execution_count": null,
      "outputs": [
        {
          "output_type": "execute_result",
          "data": {
            "text/plain": [
              "tensor([10, 20, 30])"
            ]
          },
          "metadata": {},
          "execution_count": 38
        }
      ]
    },
    {
      "cell_type": "code",
      "source": [
        "tensor"
      ],
      "metadata": {
        "colab": {
          "base_uri": "https://localhost:8080/"
        },
        "id": "HLmZYDJckDNH",
        "outputId": "71531841-877c-4809-f818-a4e457d2ca48"
      },
      "execution_count": null,
      "outputs": [
        {
          "output_type": "execute_result",
          "data": {
            "text/plain": [
              "tensor([1, 2, 3])"
            ]
          },
          "metadata": {},
          "execution_count": 39
        }
      ]
    },
    {
      "cell_type": "code",
      "source": [
        "# Substract\n",
        "tensor - 10"
      ],
      "metadata": {
        "colab": {
          "base_uri": "https://localhost:8080/"
        },
        "id": "NyIBBKXlkIkg",
        "outputId": "85013cd0-acc4-4665-94d7-016659e08a2f"
      },
      "execution_count": null,
      "outputs": [
        {
          "output_type": "execute_result",
          "data": {
            "text/plain": [
              "tensor([-9, -8, -7])"
            ]
          },
          "metadata": {},
          "execution_count": 40
        }
      ]
    },
    {
      "cell_type": "code",
      "source": [
        "# Try out PyTorch in-build functions\n",
        "torch.mul(tensor, 10)"
      ],
      "metadata": {
        "colab": {
          "base_uri": "https://localhost:8080/"
        },
        "id": "_KxoC5cAkMLy",
        "outputId": "975a2b78-540c-4e18-e79a-667677d5ba4f"
      },
      "execution_count": null,
      "outputs": [
        {
          "output_type": "execute_result",
          "data": {
            "text/plain": [
              "tensor([10, 20, 30])"
            ]
          },
          "metadata": {},
          "execution_count": 41
        }
      ]
    },
    {
      "cell_type": "code",
      "source": [
        "torch.add(tensor, 10)"
      ],
      "metadata": {
        "colab": {
          "base_uri": "https://localhost:8080/"
        },
        "id": "Kp3SmN2DkZt-",
        "outputId": "a1683b61-82c4-4a3d-f732-0b4321102383"
      },
      "execution_count": null,
      "outputs": [
        {
          "output_type": "execute_result",
          "data": {
            "text/plain": [
              "tensor([11, 12, 13])"
            ]
          },
          "metadata": {},
          "execution_count": 42
        }
      ]
    },
    {
      "cell_type": "markdown",
      "source": [
        "### Matrix multiplication"
      ],
      "metadata": {
        "id": "F0P28yX5kb0U"
      }
    },
    {
      "cell_type": "code",
      "source": [
        "# Element wise multiplication\n",
        "tensor"
      ],
      "metadata": {
        "colab": {
          "base_uri": "https://localhost:8080/"
        },
        "id": "A4woWv96l3ch",
        "outputId": "2f935e18-0d0b-4b21-fe8b-95668e428650"
      },
      "execution_count": null,
      "outputs": [
        {
          "output_type": "execute_result",
          "data": {
            "text/plain": [
              "tensor([1, 2, 3])"
            ]
          },
          "metadata": {},
          "execution_count": 43
        }
      ]
    },
    {
      "cell_type": "code",
      "source": [
        "tensor * tensor"
      ],
      "metadata": {
        "colab": {
          "base_uri": "https://localhost:8080/"
        },
        "id": "azqRedBwmkC3",
        "outputId": "69937935-97a1-4392-f055-be12e4b7cff3"
      },
      "execution_count": null,
      "outputs": [
        {
          "output_type": "execute_result",
          "data": {
            "text/plain": [
              "tensor([1, 4, 9])"
            ]
          },
          "metadata": {},
          "execution_count": 44
        }
      ]
    },
    {
      "cell_type": "code",
      "source": [
        "# Matrix multiplication\n",
        "torch.matmul(tensor, tensor)\n"
      ],
      "metadata": {
        "colab": {
          "base_uri": "https://localhost:8080/"
        },
        "id": "si11Ewoomseq",
        "outputId": "2ab93b44-d04d-4a44-fbc2-a3d43c4482b3"
      },
      "execution_count": null,
      "outputs": [
        {
          "output_type": "execute_result",
          "data": {
            "text/plain": [
              "tensor(14)"
            ]
          },
          "metadata": {},
          "execution_count": 45
        }
      ]
    },
    {
      "cell_type": "code",
      "source": [
        "# Matrix multiplication by hand\n",
        "1*1 + 2*2 + 3*3"
      ],
      "metadata": {
        "colab": {
          "base_uri": "https://localhost:8080/"
        },
        "id": "QH6ejHtdnCPV",
        "outputId": "c64c7832-586a-44e4-a9ce-5fb1fae3dc5e"
      },
      "execution_count": null,
      "outputs": [
        {
          "output_type": "execute_result",
          "data": {
            "text/plain": [
              "14"
            ]
          },
          "metadata": {},
          "execution_count": 46
        }
      ]
    },
    {
      "cell_type": "code",
      "source": [
        "%%time\n",
        "value = 0\n",
        "for i in range(len(tensor)):\n",
        "  value += tensor[i]*tensor[i]\n",
        "print(value)\n"
      ],
      "metadata": {
        "colab": {
          "base_uri": "https://localhost:8080/"
        },
        "id": "_E0kLYnrnOfK",
        "outputId": "d28a2231-3c00-41ac-99ad-377d77c214b5"
      },
      "execution_count": null,
      "outputs": [
        {
          "output_type": "stream",
          "name": "stdout",
          "text": [
            "tensor(14)\n",
            "CPU times: user 2.39 ms, sys: 196 µs, total: 2.58 ms\n",
            "Wall time: 23.1 ms\n"
          ]
        }
      ]
    },
    {
      "cell_type": "code",
      "source": [
        "%%time\n",
        "torch.matmul(tensor, tensor)"
      ],
      "metadata": {
        "colab": {
          "base_uri": "https://localhost:8080/"
        },
        "id": "RuZX63mPne3E",
        "outputId": "7719c718-1870-41bf-9dcc-7baccb1433c3"
      },
      "execution_count": null,
      "outputs": [
        {
          "output_type": "stream",
          "name": "stdout",
          "text": [
            "CPU times: user 97 µs, sys: 0 ns, total: 97 µs\n",
            "Wall time: 101 µs\n"
          ]
        },
        {
          "output_type": "execute_result",
          "data": {
            "text/plain": [
              "tensor(14)"
            ]
          },
          "metadata": {},
          "execution_count": 48
        }
      ]
    },
    {
      "cell_type": "markdown",
      "source": [
        "### One of the most common errors in deep learning: shape errors"
      ],
      "metadata": {
        "id": "50qCeicVn97O"
      }
    },
    {
      "cell_type": "code",
      "source": [
        "torch.matmul(torch.rand(3,2), torch.rand(2, 3))\n",
        "# torch.matmul(torch.rand(3,2), torch.rand(3, 2)) # Error por dimensiones\n"
      ],
      "metadata": {
        "colab": {
          "base_uri": "https://localhost:8080/"
        },
        "id": "05b7Gp3joP1P",
        "outputId": "543d6075-a524-4507-98d2-e65c3c5ab18b"
      },
      "execution_count": null,
      "outputs": [
        {
          "output_type": "execute_result",
          "data": {
            "text/plain": [
              "tensor([[0.0852, 0.7008, 0.3871],\n",
              "        [0.8011, 0.7599, 0.8253],\n",
              "        [0.3623, 0.8429, 0.6142]])"
            ]
          },
          "metadata": {},
          "execution_count": 49
        }
      ]
    },
    {
      "cell_type": "code",
      "source": [
        "torch.matmul(torch.rand(3,10), torch.rand(10, 3))"
      ],
      "metadata": {
        "colab": {
          "base_uri": "https://localhost:8080/"
        },
        "id": "NGtWcb66pVAj",
        "outputId": "08fabb27-420e-433c-b1ac-87b327a79e7d"
      },
      "execution_count": null,
      "outputs": [
        {
          "output_type": "execute_result",
          "data": {
            "text/plain": [
              "tensor([[2.6850, 3.0808, 1.8249],\n",
              "        [2.9151, 3.1669, 2.0815],\n",
              "        [2.2919, 2.0305, 1.4500]])"
            ]
          },
          "metadata": {},
          "execution_count": 50
        }
      ]
    },
    {
      "cell_type": "markdown",
      "source": [
        "### One of the most common errors in deep learning: shape errors"
      ],
      "metadata": {
        "id": "tRwc3aQWpk2D"
      }
    },
    {
      "cell_type": "code",
      "source": [
        "# Shapes for matrix multiplication\n",
        "tensor_A = torch.tensor([[1,2],\n",
        "                         [3,4],\n",
        "                         [5,6]])\n",
        "tensor_B = torch.tensor([[7,10],\n",
        "                         [8,11],\n",
        "                         [9,12]])\n",
        "torch.mm(tensor_A, tensor_B) #torch.matmul == torch.mm"
      ],
      "metadata": {
        "colab": {
          "base_uri": "https://localhost:8080/",
          "height": 176
        },
        "id": "ToAEzd3Hp5IM",
        "outputId": "63306f15-5787-4799-9ddb-1486dc64d4eb"
      },
      "execution_count": null,
      "outputs": [
        {
          "output_type": "error",
          "ename": "RuntimeError",
          "evalue": "mat1 and mat2 shapes cannot be multiplied (3x2 and 3x2)",
          "traceback": [
            "\u001b[0;31m---------------------------------------------------------------------------\u001b[0m",
            "\u001b[0;31mRuntimeError\u001b[0m                              Traceback (most recent call last)",
            "\u001b[0;32m<ipython-input-52-1f7304739f6c>\u001b[0m in \u001b[0;36m<cell line: 8>\u001b[0;34m()\u001b[0m\n\u001b[1;32m      6\u001b[0m                          \u001b[0;34m[\u001b[0m\u001b[0;36m8\u001b[0m\u001b[0;34m,\u001b[0m\u001b[0;36m11\u001b[0m\u001b[0;34m]\u001b[0m\u001b[0;34m,\u001b[0m\u001b[0;34m\u001b[0m\u001b[0;34m\u001b[0m\u001b[0m\n\u001b[1;32m      7\u001b[0m                          [9,12]])\n\u001b[0;32m----> 8\u001b[0;31m \u001b[0mtorch\u001b[0m\u001b[0;34m.\u001b[0m\u001b[0mmm\u001b[0m\u001b[0;34m(\u001b[0m\u001b[0mtensor_A\u001b[0m\u001b[0;34m,\u001b[0m \u001b[0mtensor_B\u001b[0m\u001b[0;34m)\u001b[0m \u001b[0;31m#torch.matmul == torch.mm\u001b[0m\u001b[0;34m\u001b[0m\u001b[0;34m\u001b[0m\u001b[0m\n\u001b[0m",
            "\u001b[0;31mRuntimeError\u001b[0m: mat1 and mat2 shapes cannot be multiplied (3x2 and 3x2)"
          ]
        }
      ]
    },
    {
      "cell_type": "code",
      "source": [
        "tensor_A.shape, tensor_B.shape"
      ],
      "metadata": {
        "colab": {
          "base_uri": "https://localhost:8080/"
        },
        "id": "mElF7xt9qmmo",
        "outputId": "406e8534-3362-4be9-f21e-4dd8ababdc08"
      },
      "execution_count": null,
      "outputs": [
        {
          "output_type": "execute_result",
          "data": {
            "text/plain": [
              "(torch.Size([3, 2]), torch.Size([3, 2]))"
            ]
          },
          "metadata": {},
          "execution_count": 53
        }
      ]
    },
    {
      "cell_type": "markdown",
      "source": [
        "To fix our tensor shape issues, we can manipulate the shape of one of our tensors using a traspose.\n",
        "A **traspose** switches the axes or dimensions of a given tensor"
      ],
      "metadata": {
        "id": "3nS13klGquXE"
      }
    },
    {
      "cell_type": "code",
      "source": [
        "tensor_B"
      ],
      "metadata": {
        "colab": {
          "base_uri": "https://localhost:8080/"
        },
        "id": "jI6z2BB6rAlR",
        "outputId": "23bbead4-0391-474f-e542-efaa04e9a890"
      },
      "execution_count": null,
      "outputs": [
        {
          "output_type": "execute_result",
          "data": {
            "text/plain": [
              "tensor([[ 7, 10],\n",
              "        [ 8, 11],\n",
              "        [ 9, 12]])"
            ]
          },
          "metadata": {},
          "execution_count": 54
        }
      ]
    },
    {
      "cell_type": "code",
      "source": [
        "tensor_B.T, tensor_B.T.shape"
      ],
      "metadata": {
        "colab": {
          "base_uri": "https://localhost:8080/"
        },
        "id": "EgvhMYSTrESk",
        "outputId": "ef5af41c-2a23-42d8-f38d-57a423800069"
      },
      "execution_count": null,
      "outputs": [
        {
          "output_type": "execute_result",
          "data": {
            "text/plain": [
              "(tensor([[ 7,  8,  9],\n",
              "         [10, 11, 12]]),\n",
              " torch.Size([2, 3]))"
            ]
          },
          "metadata": {},
          "execution_count": 55
        }
      ]
    },
    {
      "cell_type": "code",
      "source": [
        "# The matrix multiplication operation works when tensor_B is trasposed\n",
        "print(f\"Original shapes: tensor_A={tensor_A.shape}, tensor_B={tensor_B.shape}\")\n",
        "print(f\"New shapes: tensor_A={tensor_A.shape} (same shape as above), tensor_B.T={tensor_B.T.shape}\")\n",
        "print(f\"Multiplying: {tensor_A.shape}@{tensor_B.T.shape} <- Inner dimensions must match\")\n",
        "print(\"Output:\\n\")\n",
        "output = torch.matmul(tensor_A, tensor_B.T)\n",
        "print(output)\n",
        "print(f\"\\nOutput shape: {output.shape}\")"
      ],
      "metadata": {
        "colab": {
          "base_uri": "https://localhost:8080/"
        },
        "id": "UNCsjrqmrknV",
        "outputId": "c99632ac-3748-41c9-ba50-3fdf212845fe"
      },
      "execution_count": null,
      "outputs": [
        {
          "output_type": "stream",
          "name": "stdout",
          "text": [
            "Original shapes: tensor_A=torch.Size([3, 2]), tensor_B=torch.Size([3, 2])\n",
            "New shapes: tensor_A=torch.Size([3, 2]) (same shape as above), tensor_B.T=torch.Size([2, 3])\n",
            "Multiplying: torch.Size([3, 2])@torch.Size([2, 3]) <- Inner dimensions must match\n",
            "Output:\n",
            "\n",
            "tensor([[ 27,  30,  33],\n",
            "        [ 61,  68,  75],\n",
            "        [ 95, 106, 117]])\n",
            "\n",
            "Output shape: torch.Size([3, 3])\n"
          ]
        }
      ]
    },
    {
      "cell_type": "markdown",
      "source": [
        "## Finding the min, max, mean, sum, etc (tensor agregation)"
      ],
      "metadata": {
        "id": "sh_oubWntCvq"
      }
    },
    {
      "cell_type": "code",
      "source": [
        "# Create a tensor\n",
        "x = torch.arange(1, 100, 10)\n",
        "x"
      ],
      "metadata": {
        "colab": {
          "base_uri": "https://localhost:8080/"
        },
        "id": "stShoMRftKD_",
        "outputId": "3fe3eac9-dfd2-4a26-f716-a35b6c401f9e"
      },
      "execution_count": null,
      "outputs": [
        {
          "output_type": "execute_result",
          "data": {
            "text/plain": [
              "tensor([ 1, 11, 21, 31, 41, 51, 61, 71, 81, 91])"
            ]
          },
          "metadata": {},
          "execution_count": 57
        }
      ]
    },
    {
      "cell_type": "code",
      "source": [
        "# Find the min\n",
        "torch.min(x), x.min()"
      ],
      "metadata": {
        "colab": {
          "base_uri": "https://localhost:8080/"
        },
        "id": "0Tk2epOLtVGG",
        "outputId": "ca467e04-0a9e-4630-8b9b-ba36a138d994"
      },
      "execution_count": null,
      "outputs": [
        {
          "output_type": "execute_result",
          "data": {
            "text/plain": [
              "(tensor(1), tensor(1))"
            ]
          },
          "metadata": {},
          "execution_count": 58
        }
      ]
    },
    {
      "cell_type": "code",
      "source": [
        "# Find the max\n",
        "torch.max(x), x.max()"
      ],
      "metadata": {
        "colab": {
          "base_uri": "https://localhost:8080/"
        },
        "id": "8FVV5ym1tZP1",
        "outputId": "5abe9d78-58b2-4e47-eed5-f1d633e192b5"
      },
      "execution_count": null,
      "outputs": [
        {
          "output_type": "execute_result",
          "data": {
            "text/plain": [
              "(tensor(91), tensor(91))"
            ]
          },
          "metadata": {},
          "execution_count": 59
        }
      ]
    },
    {
      "cell_type": "code",
      "source": [
        "# Find the mean - note: the torch.mean() function requires a tensor of float32 datatype to work\n",
        "torch.mean(x.type(torch.float32)), x.type(torch.float32).mean()"
      ],
      "metadata": {
        "colab": {
          "base_uri": "https://localhost:8080/"
        },
        "id": "Ty3lwe2ftciC",
        "outputId": "85a50856-63aa-4c20-d60c-60cd59be3404"
      },
      "execution_count": null,
      "outputs": [
        {
          "output_type": "execute_result",
          "data": {
            "text/plain": [
              "(tensor(46.), tensor(46.))"
            ]
          },
          "metadata": {},
          "execution_count": 60
        }
      ]
    },
    {
      "cell_type": "code",
      "source": [
        "# Find the sum\n",
        "torch.sum(x), x.sum()"
      ],
      "metadata": {
        "colab": {
          "base_uri": "https://localhost:8080/"
        },
        "id": "YwJbMnE0ud3r",
        "outputId": "0c93f2b1-822c-4abc-de8e-ff2a6e2660e1"
      },
      "execution_count": null,
      "outputs": [
        {
          "output_type": "execute_result",
          "data": {
            "text/plain": [
              "(tensor(460), tensor(460))"
            ]
          },
          "metadata": {},
          "execution_count": 61
        }
      ]
    },
    {
      "cell_type": "markdown",
      "source": [
        "## Finding the positional min and max"
      ],
      "metadata": {
        "id": "yy2ox-fluSvc"
      }
    },
    {
      "cell_type": "code",
      "source": [
        "x"
      ],
      "metadata": {
        "colab": {
          "base_uri": "https://localhost:8080/"
        },
        "id": "FGDhhSc4wVTO",
        "outputId": "c745b302-90d6-4ae0-c2f0-727c575b34f5"
      },
      "execution_count": null,
      "outputs": [
        {
          "output_type": "execute_result",
          "data": {
            "text/plain": [
              "tensor([ 1, 11, 21, 31, 41, 51, 61, 71, 81, 91])"
            ]
          },
          "metadata": {},
          "execution_count": 62
        }
      ]
    },
    {
      "cell_type": "code",
      "source": [
        "# Find the position in tensor that has the minimun value witch argmin() -> returns index position\n",
        "x.argmin()"
      ],
      "metadata": {
        "colab": {
          "base_uri": "https://localhost:8080/"
        },
        "id": "fab35LOmwBfq",
        "outputId": "ca1e80ce-96c3-46df-a510-1e6905d5c32e"
      },
      "execution_count": null,
      "outputs": [
        {
          "output_type": "execute_result",
          "data": {
            "text/plain": [
              "tensor(0)"
            ]
          },
          "metadata": {},
          "execution_count": 63
        }
      ]
    },
    {
      "cell_type": "code",
      "source": [
        "x[0]"
      ],
      "metadata": {
        "colab": {
          "base_uri": "https://localhost:8080/"
        },
        "id": "6zndLICowERp",
        "outputId": "6b1b65b6-7f2b-4bc3-b205-e949e8ee4259"
      },
      "execution_count": null,
      "outputs": [
        {
          "output_type": "execute_result",
          "data": {
            "text/plain": [
              "tensor(1)"
            ]
          },
          "metadata": {},
          "execution_count": 64
        }
      ]
    },
    {
      "cell_type": "code",
      "source": [
        "# Find the position in tensor that has the maximum value with argmax()\n",
        "x.argmax()"
      ],
      "metadata": {
        "colab": {
          "base_uri": "https://localhost:8080/"
        },
        "id": "oHLMG77JweNG",
        "outputId": "28d6a374-af87-4dce-e538-f26981d087ce"
      },
      "execution_count": null,
      "outputs": [
        {
          "output_type": "execute_result",
          "data": {
            "text/plain": [
              "tensor(9)"
            ]
          },
          "metadata": {},
          "execution_count": 65
        }
      ]
    },
    {
      "cell_type": "code",
      "source": [
        "x[9]"
      ],
      "metadata": {
        "colab": {
          "base_uri": "https://localhost:8080/"
        },
        "id": "pqFdOam4wjDu",
        "outputId": "36bc1748-342d-41c4-f84e-d970ab3f5004"
      },
      "execution_count": null,
      "outputs": [
        {
          "output_type": "execute_result",
          "data": {
            "text/plain": [
              "tensor(91)"
            ]
          },
          "metadata": {},
          "execution_count": 66
        }
      ]
    },
    {
      "cell_type": "markdown",
      "source": [
        "## Reshaping, stacking, squeezing, and unsqueezing tensors"
      ],
      "metadata": {
        "id": "UjrCf_grwupp"
      }
    },
    {
      "cell_type": "code",
      "source": [
        "#Let's create a tensor\n",
        "import torch\n",
        "x = torch.arange(1., 13.)\n",
        "x, x.shape"
      ],
      "metadata": {
        "colab": {
          "base_uri": "https://localhost:8080/"
        },
        "id": "19OFLs5zxMcN",
        "outputId": "30a6aebb-f9ce-4884-81c5-dc85e05b29dc"
      },
      "execution_count": null,
      "outputs": [
        {
          "output_type": "execute_result",
          "data": {
            "text/plain": [
              "(tensor([ 1.,  2.,  3.,  4.,  5.,  6.,  7.,  8.,  9., 10., 11., 12.]),\n",
              " torch.Size([12]))"
            ]
          },
          "metadata": {},
          "execution_count": 67
        }
      ]
    },
    {
      "cell_type": "code",
      "source": [
        "# Add an extra dimension\n",
        "x_reshaped = x.reshape(3, 4)\n",
        "x_reshaped, x_reshaped.shape"
      ],
      "metadata": {
        "colab": {
          "base_uri": "https://localhost:8080/"
        },
        "id": "ncpQog8Nyh39",
        "outputId": "dec42175-c09e-44dd-d613-48e8b44cc530"
      },
      "execution_count": null,
      "outputs": [
        {
          "output_type": "execute_result",
          "data": {
            "text/plain": [
              "(tensor([[ 1.,  2.,  3.,  4.],\n",
              "         [ 5.,  6.,  7.,  8.],\n",
              "         [ 9., 10., 11., 12.]]),\n",
              " torch.Size([3, 4]))"
            ]
          },
          "metadata": {},
          "execution_count": 68
        }
      ]
    },
    {
      "cell_type": "code",
      "source": [
        "# Change the view\n",
        "z = x.view(1, 12)\n",
        "z, z.shape"
      ],
      "metadata": {
        "colab": {
          "base_uri": "https://localhost:8080/"
        },
        "id": "uJFGLdNKzARz",
        "outputId": "bb27a113-c9db-4de7-f6b7-6e45d4a6c7a5"
      },
      "execution_count": null,
      "outputs": [
        {
          "output_type": "execute_result",
          "data": {
            "text/plain": [
              "(tensor([[ 1.,  2.,  3.,  4.,  5.,  6.,  7.,  8.,  9., 10., 11., 12.]]),\n",
              " torch.Size([1, 12]))"
            ]
          },
          "metadata": {},
          "execution_count": 69
        }
      ]
    },
    {
      "cell_type": "code",
      "source": [
        "# Changing z changes x (becaouse a view of a tensor chares the same memory)\n",
        "z[:, 0] = 5\n",
        "z, x"
      ],
      "metadata": {
        "colab": {
          "base_uri": "https://localhost:8080/"
        },
        "id": "sFG9Oc_fzvOg",
        "outputId": "96f475b7-9bf5-45a3-fb4c-316134fab273"
      },
      "execution_count": null,
      "outputs": [
        {
          "output_type": "execute_result",
          "data": {
            "text/plain": [
              "(tensor([[ 5.,  2.,  3.,  4.,  5.,  6.,  7.,  8.,  9., 10., 11., 12.]]),\n",
              " tensor([ 5.,  2.,  3.,  4.,  5.,  6.,  7.,  8.,  9., 10., 11., 12.]))"
            ]
          },
          "metadata": {},
          "execution_count": 70
        }
      ]
    },
    {
      "cell_type": "code",
      "source": [
        "# Stack tensors on top of each other\n",
        "x_stacked = torch.stack([x,x,x,x], dim=0)\n",
        "x_stacked"
      ],
      "metadata": {
        "colab": {
          "base_uri": "https://localhost:8080/"
        },
        "id": "UBtJQ2yMz7sR",
        "outputId": "f4a98ea3-9229-48d1-8c07-b66b7e48a234"
      },
      "execution_count": null,
      "outputs": [
        {
          "output_type": "execute_result",
          "data": {
            "text/plain": [
              "tensor([[ 5.,  2.,  3.,  4.,  5.,  6.,  7.,  8.,  9., 10., 11., 12.],\n",
              "        [ 5.,  2.,  3.,  4.,  5.,  6.,  7.,  8.,  9., 10., 11., 12.],\n",
              "        [ 5.,  2.,  3.,  4.,  5.,  6.,  7.,  8.,  9., 10., 11., 12.],\n",
              "        [ 5.,  2.,  3.,  4.,  5.,  6.,  7.,  8.,  9., 10., 11., 12.]])"
            ]
          },
          "metadata": {},
          "execution_count": 71
        }
      ]
    },
    {
      "cell_type": "code",
      "source": [
        "# torch.squeeze() - removes all single dimensions from a target tensor\n",
        "x = torch.arange(1., 10.)\n",
        "x_reshaped = x.reshape(1,9)\n",
        "print(f\"Previous tensor: {x_reshaped}\")\n",
        "print(f\"Previous shape: {x_reshaped.shape}\")\n",
        "\n",
        "# Remove extra dimensions from x_reshaped\n",
        "x_squeezed = x_reshaped.squeeze()\n",
        "print(f\"\\nNew tensor: {x_squeezed}\")\n",
        "print(f\"New shape: {x_squeezed.shape}\")"
      ],
      "metadata": {
        "colab": {
          "base_uri": "https://localhost:8080/"
        },
        "id": "v7wsduj40kOg",
        "outputId": "e48b6e46-d0d2-4046-a001-9f31c239cdf9"
      },
      "execution_count": null,
      "outputs": [
        {
          "output_type": "stream",
          "name": "stdout",
          "text": [
            "Previous tensor: tensor([[1., 2., 3., 4., 5., 6., 7., 8., 9.]])\n",
            "Previous shape: torch.Size([1, 9])\n",
            "\n",
            "New tensor: tensor([1., 2., 3., 4., 5., 6., 7., 8., 9.])\n",
            "New shape: torch.Size([9])\n"
          ]
        }
      ]
    },
    {
      "cell_type": "code",
      "source": [
        "#torch.unsqueeze() - adds a single dimension to a target tensor at a specific dim (dimension)\n",
        "print(f\"Previous target: {x_squeezed}\")\n",
        "print(f\"Previous shape: {x_squeezed.shape}\")\n",
        "\n",
        "# Add an extra dimension with unsqueeze\n",
        "x_unsqueezed = x_squeezed.unsqueeze(dim=0)\n",
        "print(f\"\\nNew Tensor: {x_unsqueezed}\")\n",
        "print(f\"New shape: {x_unsqueezed.shape}\")\n",
        "\n",
        "x_unsqueezed = x_squeezed.unsqueeze(dim=1)\n",
        "print(f\"\\nNew Tensor: {x_unsqueezed}\")\n",
        "print(f\"New shape: {x_unsqueezed.shape}\")\n"
      ],
      "metadata": {
        "colab": {
          "base_uri": "https://localhost:8080/"
        },
        "id": "UnszCof-2vYy",
        "outputId": "e6e26844-d683-4bb4-da14-ed651f2eda32"
      },
      "execution_count": null,
      "outputs": [
        {
          "output_type": "stream",
          "name": "stdout",
          "text": [
            "Previous target: tensor([1., 2., 3., 4., 5., 6., 7., 8., 9.])\n",
            "Previous shape: torch.Size([9])\n",
            "\n",
            "New Tensor: tensor([[1., 2., 3., 4., 5., 6., 7., 8., 9.]])\n",
            "New shape: torch.Size([1, 9])\n",
            "\n",
            "New Tensor: tensor([[1.],\n",
            "        [2.],\n",
            "        [3.],\n",
            "        [4.],\n",
            "        [5.],\n",
            "        [6.],\n",
            "        [7.],\n",
            "        [8.],\n",
            "        [9.]])\n",
            "New shape: torch.Size([9, 1])\n"
          ]
        }
      ]
    },
    {
      "cell_type": "code",
      "source": [
        "# torch.permute - rearranges the dimensions of a target tensor in a specified order\n",
        "x_original = torch.rand(size=(224, 224, 3)) #[height, width, colour_channels]\n",
        "\n",
        "# Permute the original tensor to rearrange the axis (or dim) order\n",
        "x_permuted = x_original.permute(2, 0, 1) # shifts axis 0->1, 1->2, 2->0\n",
        "\n",
        "print(f\"Previous shape: {x_original.shape}\")\n",
        "print(f\"New shape: {x_permuted.shape}\") #[colour_chanels, height, width]\n"
      ],
      "metadata": {
        "colab": {
          "base_uri": "https://localhost:8080/"
        },
        "id": "ua-K2MuW3bk-",
        "outputId": "efcf6237-d3b3-4e0b-83bb-e6e50f0fc33f"
      },
      "execution_count": null,
      "outputs": [
        {
          "output_type": "stream",
          "name": "stdout",
          "text": [
            "Previous shape: torch.Size([224, 224, 3])\n",
            "New shape: torch.Size([3, 224, 224])\n"
          ]
        }
      ]
    },
    {
      "cell_type": "markdown",
      "source": [
        "## Indexing (selecting data from tensors)"
      ],
      "metadata": {
        "id": "st85Rrnb4kmt"
      }
    },
    {
      "cell_type": "code",
      "source": [
        "# Create a tensor\n",
        "import torch\n",
        "x = torch.arange(1, 10).reshape(1, 3, 3)\n",
        "x, x.shape"
      ],
      "metadata": {
        "colab": {
          "base_uri": "https://localhost:8080/"
        },
        "id": "CzW94DfW5HZy",
        "outputId": "3a60bc16-2ff6-4162-929b-f95fc84ea327"
      },
      "execution_count": null,
      "outputs": [
        {
          "output_type": "execute_result",
          "data": {
            "text/plain": [
              "(tensor([[[1, 2, 3],\n",
              "          [4, 5, 6],\n",
              "          [7, 8, 9]]]),\n",
              " torch.Size([1, 3, 3]))"
            ]
          },
          "metadata": {},
          "execution_count": 75
        }
      ]
    },
    {
      "cell_type": "code",
      "source": [
        "#Let's index on our new tensor\n",
        "x[0]"
      ],
      "metadata": {
        "colab": {
          "base_uri": "https://localhost:8080/"
        },
        "id": "mG3JlW415ZEo",
        "outputId": "4fdf162a-7322-44bc-8895-50acf07d1258"
      },
      "execution_count": null,
      "outputs": [
        {
          "output_type": "execute_result",
          "data": {
            "text/plain": [
              "tensor([[1, 2, 3],\n",
              "        [4, 5, 6],\n",
              "        [7, 8, 9]])"
            ]
          },
          "metadata": {},
          "execution_count": 76
        }
      ]
    },
    {
      "cell_type": "code",
      "source": [
        "# Let's index on the middle bracket (dim = 1)\n",
        "x[0][0]"
      ],
      "metadata": {
        "colab": {
          "base_uri": "https://localhost:8080/"
        },
        "id": "xxmyXyH95eOq",
        "outputId": "819a13c4-f0c5-4d6d-dfd4-373f6cacd734"
      },
      "execution_count": null,
      "outputs": [
        {
          "output_type": "execute_result",
          "data": {
            "text/plain": [
              "tensor([1, 2, 3])"
            ]
          },
          "metadata": {},
          "execution_count": 77
        }
      ]
    },
    {
      "cell_type": "code",
      "source": [
        "# Let's index on the most inner bracket (last dimension)\n",
        "x[0][1][1]\n"
      ],
      "metadata": {
        "colab": {
          "base_uri": "https://localhost:8080/"
        },
        "id": "qkPGL4nl5onJ",
        "outputId": "fffac89b-c7eb-4263-eed7-f25fbfd4e114"
      },
      "execution_count": null,
      "outputs": [
        {
          "output_type": "execute_result",
          "data": {
            "text/plain": [
              "tensor(5)"
            ]
          },
          "metadata": {},
          "execution_count": 78
        }
      ]
    },
    {
      "cell_type": "code",
      "source": [
        "# You can also use \":\" to select \"all\" of a target dimension\n",
        "x[:, 0]"
      ],
      "metadata": {
        "colab": {
          "base_uri": "https://localhost:8080/"
        },
        "id": "Q6HvaRVs6JDJ",
        "outputId": "9fcb79c4-59aa-44ea-fd58-dda45ce7d6ed"
      },
      "execution_count": null,
      "outputs": [
        {
          "output_type": "execute_result",
          "data": {
            "text/plain": [
              "tensor([[1, 2, 3]])"
            ]
          },
          "metadata": {},
          "execution_count": 79
        }
      ]
    },
    {
      "cell_type": "code",
      "source": [
        "# Get all values of 0th and 1st dimensions but only index 1 of 2nd dimension\n",
        "x[:,:,1]"
      ],
      "metadata": {
        "colab": {
          "base_uri": "https://localhost:8080/"
        },
        "id": "o9bs-8Cj6hDf",
        "outputId": "045d7a91-a508-41d0-d5a8-82a57e9bf132"
      },
      "execution_count": null,
      "outputs": [
        {
          "output_type": "execute_result",
          "data": {
            "text/plain": [
              "tensor([[2, 5, 8]])"
            ]
          },
          "metadata": {},
          "execution_count": 80
        }
      ]
    },
    {
      "cell_type": "code",
      "source": [
        "# Get all values of the 0 dimension but only the 1 index value of 1st and 2nd dimension\n",
        "x[:, 1, 1]"
      ],
      "metadata": {
        "colab": {
          "base_uri": "https://localhost:8080/"
        },
        "id": "LmXXFJJc61lU",
        "outputId": "f7842394-4920-4db5-e105-605ee0359bdd"
      },
      "execution_count": null,
      "outputs": [
        {
          "output_type": "execute_result",
          "data": {
            "text/plain": [
              "tensor([5])"
            ]
          },
          "metadata": {},
          "execution_count": 81
        }
      ]
    },
    {
      "cell_type": "code",
      "source": [
        "# Get index 0 of 0th and 1st dimension and all values of 2nd dimension\n",
        "x[0, 0, :]"
      ],
      "metadata": {
        "colab": {
          "base_uri": "https://localhost:8080/"
        },
        "id": "A0gLAZzV65zw",
        "outputId": "f55519c9-5d8b-4446-f949-60f578dc98dc"
      },
      "execution_count": null,
      "outputs": [
        {
          "output_type": "execute_result",
          "data": {
            "text/plain": [
              "tensor([1, 2, 3])"
            ]
          },
          "metadata": {},
          "execution_count": 82
        }
      ]
    },
    {
      "cell_type": "code",
      "source": [
        "# Index on x to return 9\n",
        "x[0, 2, 2]"
      ],
      "metadata": {
        "colab": {
          "base_uri": "https://localhost:8080/"
        },
        "id": "ToVppuSF7YcL",
        "outputId": "794c7df0-d028-4259-9902-41ecbe6fb34d"
      },
      "execution_count": null,
      "outputs": [
        {
          "output_type": "execute_result",
          "data": {
            "text/plain": [
              "tensor(9)"
            ]
          },
          "metadata": {},
          "execution_count": 83
        }
      ]
    },
    {
      "cell_type": "code",
      "source": [
        "# Index on x to return [3, 6, 9]\n",
        "x[:, :, 2]"
      ],
      "metadata": {
        "colab": {
          "base_uri": "https://localhost:8080/"
        },
        "id": "xAOS4yzE7vBX",
        "outputId": "30754b38-8c48-4c7e-9fb4-ed7f0a0fb147"
      },
      "execution_count": null,
      "outputs": [
        {
          "output_type": "execute_result",
          "data": {
            "text/plain": [
              "tensor([[3, 6, 9]])"
            ]
          },
          "metadata": {},
          "execution_count": 84
        }
      ]
    },
    {
      "cell_type": "markdown",
      "source": [
        "## Pytorch tensors & Numpy"
      ],
      "metadata": {
        "id": "ZbcJHpzS76JS"
      }
    },
    {
      "cell_type": "code",
      "source": [
        "# NumPy array to tensor\n",
        "import torch\n",
        "import numpy as np\n",
        "\n",
        "array = np.arange(1.0, 8.0)\n",
        "tensor = torch.from_numpy(array)\n",
        "array, tensor"
      ],
      "metadata": {
        "colab": {
          "base_uri": "https://localhost:8080/"
        },
        "id": "KKmhXJ_Y8Fi9",
        "outputId": "d7456c1d-cc92-46e9-d284-3e1c0abe211e"
      },
      "execution_count": null,
      "outputs": [
        {
          "output_type": "execute_result",
          "data": {
            "text/plain": [
              "(array([1., 2., 3., 4., 5., 6., 7.]),\n",
              " tensor([1., 2., 3., 4., 5., 6., 7.], dtype=torch.float64))"
            ]
          },
          "metadata": {},
          "execution_count": 89
        }
      ]
    },
    {
      "cell_type": "code",
      "source": [
        "array.dtype"
      ],
      "metadata": {
        "colab": {
          "base_uri": "https://localhost:8080/"
        },
        "id": "76TIgsE0-1IT",
        "outputId": "2aeae50d-988b-45b9-d41e-1d7250108500"
      },
      "execution_count": null,
      "outputs": [
        {
          "output_type": "execute_result",
          "data": {
            "text/plain": [
              "dtype('float64')"
            ]
          },
          "metadata": {},
          "execution_count": 87
        }
      ]
    },
    {
      "cell_type": "code",
      "source": [
        "torch.arange(1.0, 8.0).dtype"
      ],
      "metadata": {
        "colab": {
          "base_uri": "https://localhost:8080/"
        },
        "id": "seS1o71B-3wi",
        "outputId": "c61dc2a1-6340-436f-f6ad-d3ef665ef395"
      },
      "execution_count": null,
      "outputs": [
        {
          "output_type": "execute_result",
          "data": {
            "text/plain": [
              "torch.float32"
            ]
          },
          "metadata": {},
          "execution_count": 88
        }
      ]
    },
    {
      "cell_type": "code",
      "source": [
        "# Change the value of array, what will this do to \"tensor\"\n",
        "array = array +1\n",
        "array, tensor"
      ],
      "metadata": {
        "colab": {
          "base_uri": "https://localhost:8080/"
        },
        "id": "w_Hg-ay2_TL1",
        "outputId": "56422d9f-caf6-4e6e-c0f2-e593e6b4b16a"
      },
      "execution_count": null,
      "outputs": [
        {
          "output_type": "execute_result",
          "data": {
            "text/plain": [
              "(array([2., 3., 4., 5., 6., 7., 8.]),\n",
              " tensor([1., 2., 3., 4., 5., 6., 7.], dtype=torch.float64))"
            ]
          },
          "metadata": {},
          "execution_count": 90
        }
      ]
    },
    {
      "cell_type": "code",
      "source": [
        "# Tensor to Numpy array\n",
        "tensor = torch.ones(7)\n",
        "numpy_tensor = tensor.numpy()\n",
        "tensor, numpy_tensor"
      ],
      "metadata": {
        "colab": {
          "base_uri": "https://localhost:8080/"
        },
        "id": "Y2NoIgih_fUu",
        "outputId": "40687500-30d5-4068-93a1-894eee406362"
      },
      "execution_count": null,
      "outputs": [
        {
          "output_type": "execute_result",
          "data": {
            "text/plain": [
              "(tensor([1., 1., 1., 1., 1., 1., 1.]),\n",
              " array([1., 1., 1., 1., 1., 1., 1.], dtype=float32))"
            ]
          },
          "metadata": {},
          "execution_count": 92
        }
      ]
    },
    {
      "cell_type": "code",
      "source": [
        "numpy_tensor.dtype"
      ],
      "metadata": {
        "colab": {
          "base_uri": "https://localhost:8080/"
        },
        "id": "W1LzT84T_quL",
        "outputId": "59d67301-6e66-4bda-a84c-1c84cf2f72a2"
      },
      "execution_count": null,
      "outputs": [
        {
          "output_type": "execute_result",
          "data": {
            "text/plain": [
              "dtype('float32')"
            ]
          },
          "metadata": {},
          "execution_count": 93
        }
      ]
    },
    {
      "cell_type": "code",
      "source": [
        "# Change the tensor, what happens to numpy_tensor\n",
        "tensor = tensor + 1\n",
        "tensor, numpy_tensor"
      ],
      "metadata": {
        "colab": {
          "base_uri": "https://localhost:8080/"
        },
        "id": "pQjZbeFn_wm2",
        "outputId": "f51f81d6-eba6-4971-bc1e-6f64abd5bebd"
      },
      "execution_count": null,
      "outputs": [
        {
          "output_type": "execute_result",
          "data": {
            "text/plain": [
              "(tensor([2., 2., 2., 2., 2., 2., 2.]),\n",
              " array([1., 1., 1., 1., 1., 1., 1.], dtype=float32))"
            ]
          },
          "metadata": {},
          "execution_count": 94
        }
      ]
    },
    {
      "cell_type": "markdown",
      "source": [
        "## Reproducibility (trying to take random out of random)\n",
        "\n"
      ],
      "metadata": {
        "id": "Y7kQV_JcAC8y"
      }
    },
    {
      "cell_type": "code",
      "source": [
        "torch.rand(3,3)"
      ],
      "metadata": {
        "colab": {
          "base_uri": "https://localhost:8080/"
        },
        "id": "iPPbUCztBrRl",
        "outputId": "53ff43be-cfb3-4b25-b24c-d63e5453b7a7"
      },
      "execution_count": null,
      "outputs": [
        {
          "output_type": "execute_result",
          "data": {
            "text/plain": [
              "tensor([[0.3548, 0.2277, 0.0061],\n",
              "        [0.2240, 0.5437, 0.7581],\n",
              "        [0.5717, 0.7294, 0.4545]])"
            ]
          },
          "metadata": {},
          "execution_count": 96
        }
      ]
    },
    {
      "cell_type": "code",
      "source": [
        "import torch\n",
        "# Create two random tensors\n",
        "random_tensor_A = torch.rand(3,4)\n",
        "random_tensor_B = torch.rand(3,4)\n",
        "\n",
        "print(random_tensor_A)\n",
        "print(random_tensor_B)\n",
        "print(random_tensor_A == random_tensor_B)\n"
      ],
      "metadata": {
        "colab": {
          "base_uri": "https://localhost:8080/"
        },
        "id": "0JtzNOEwCUei",
        "outputId": "1e570540-a031-4b80-d5b0-91b06ba45f34"
      },
      "execution_count": null,
      "outputs": [
        {
          "output_type": "stream",
          "name": "stdout",
          "text": [
            "tensor([[0.8077, 0.6463, 0.6889, 0.1290],\n",
            "        [0.5392, 0.6353, 0.7552, 0.9576],\n",
            "        [0.5686, 0.4794, 0.6533, 0.4567]])\n",
            "tensor([[0.0739, 0.3026, 0.7623, 0.8030],\n",
            "        [0.7707, 0.7746, 0.6379, 0.4120],\n",
            "        [0.9352, 0.8564, 0.7497, 0.0162]])\n",
            "tensor([[False, False, False, False],\n",
            "        [False, False, False, False],\n",
            "        [False, False, False, False]])\n"
          ]
        }
      ]
    },
    {
      "cell_type": "code",
      "source": [
        "# Let's make some random but reproducible tensors\n",
        "import torch\n",
        "\n",
        "#Set the random seed\n",
        "RANDOM_SEED = 42\n",
        "\n",
        "torch.manual_seed(RANDOM_SEED)\n",
        "random_tensor_C = torch.rand(3, 4)\n",
        "torch.manual_seed(RANDOM_SEED)\n",
        "random_tensor_D = torch.rand(3, 4)\n",
        "\n",
        "print(random_tensor_C)\n",
        "print(random_tensor_D)\n",
        "print(random_tensor_C == random_tensor_D)"
      ],
      "metadata": {
        "colab": {
          "base_uri": "https://localhost:8080/"
        },
        "id": "La2M99lwC2og",
        "outputId": "74b7ef6c-862a-46c5-9df9-e6d512cc2798"
      },
      "execution_count": null,
      "outputs": [
        {
          "output_type": "stream",
          "name": "stdout",
          "text": [
            "tensor([[0.8823, 0.9150, 0.3829, 0.9593],\n",
            "        [0.3904, 0.6009, 0.2566, 0.7936],\n",
            "        [0.9408, 0.1332, 0.9346, 0.5936]])\n",
            "tensor([[0.8823, 0.9150, 0.3829, 0.9593],\n",
            "        [0.3904, 0.6009, 0.2566, 0.7936],\n",
            "        [0.9408, 0.1332, 0.9346, 0.5936]])\n",
            "tensor([[True, True, True, True],\n",
            "        [True, True, True, True],\n",
            "        [True, True, True, True]])\n"
          ]
        }
      ]
    },
    {
      "cell_type": "markdown",
      "source": [
        "## Running tensors and PyTorch objects on the GPUs (and making faster computations)"
      ],
      "metadata": {
        "id": "JuqCssomEHCo"
      }
    },
    {
      "cell_type": "markdown",
      "source": [
        "### Check GPU access witch PyTorch"
      ],
      "metadata": {
        "id": "umeljoYdETVR"
      }
    },
    {
      "cell_type": "code",
      "source": [
        "# Check\n",
        "import torch\n",
        "torch.cuda.is_available()"
      ],
      "metadata": {
        "colab": {
          "base_uri": "https://localhost:8080/"
        },
        "id": "Xe32b9MJFSNv",
        "outputId": "e2e9ba57-d05c-4161-aca4-9d1825b14669"
      },
      "execution_count": null,
      "outputs": [
        {
          "output_type": "execute_result",
          "data": {
            "text/plain": [
              "False"
            ]
          },
          "metadata": {},
          "execution_count": 107
        }
      ]
    },
    {
      "cell_type": "code",
      "source": [
        "# Setup device agnostic code\n",
        "device = \"cuda\" if torch.cuda.is_available() else \"cpu\"\n",
        "device"
      ],
      "metadata": {
        "colab": {
          "base_uri": "https://localhost:8080/",
          "height": 35
        },
        "id": "cZ_1XDyMFlRe",
        "outputId": "a6121d78-3aa8-4afd-d2a1-7fe6a5c7a230"
      },
      "execution_count": null,
      "outputs": [
        {
          "output_type": "execute_result",
          "data": {
            "text/plain": [
              "'cpu'"
            ],
            "application/vnd.google.colaboratory.intrinsic+json": {
              "type": "string"
            }
          },
          "metadata": {},
          "execution_count": 110
        }
      ]
    },
    {
      "cell_type": "code",
      "source": [],
      "metadata": {
        "id": "1FD5P3b5HWLm"
      },
      "execution_count": null,
      "outputs": []
    },
    {
      "cell_type": "code",
      "source": [
        "torch.cuda.device_count()"
      ],
      "metadata": {
        "colab": {
          "base_uri": "https://localhost:8080/"
        },
        "id": "0PQ75tgvF6un",
        "outputId": "a7e41187-1feb-449a-c027-597acbd6931c"
      },
      "execution_count": null,
      "outputs": [
        {
          "output_type": "execute_result",
          "data": {
            "text/plain": [
              "0"
            ]
          },
          "metadata": {},
          "execution_count": 106
        }
      ]
    },
    {
      "cell_type": "code",
      "source": [
        "## Putting tensors (and models) on the GPU"
      ],
      "metadata": {
        "id": "oMMd7aHFGpBT"
      },
      "execution_count": null,
      "outputs": []
    },
    {
      "cell_type": "code",
      "source": [
        "# Create a tensor (default on the CPU)\n",
        "tensor = torch.tensor([1,2,3], device=\"cpu\")\n",
        "\n",
        "# Tensor not on GPU\n",
        "print(tensor, tensor.device)\n"
      ],
      "metadata": {
        "colab": {
          "base_uri": "https://localhost:8080/"
        },
        "id": "zrom0TxgGehM",
        "outputId": "dfbb8f32-d1e6-4a28-b794-fe8252553284"
      },
      "execution_count": null,
      "outputs": [
        {
          "output_type": "stream",
          "name": "stdout",
          "text": [
            "tensor([1, 2, 3]) cpu\n"
          ]
        }
      ]
    },
    {
      "cell_type": "code",
      "source": [
        "# Move tensor to GPU if available\n",
        "tensor_on_gpu = tensor.to(device)\n",
        "tensor_on_gpu"
      ],
      "metadata": {
        "colab": {
          "base_uri": "https://localhost:8080/"
        },
        "id": "gZ3yx9gBG-qW",
        "outputId": "a355722e-1248-4915-93eb-050342fa2581"
      },
      "execution_count": null,
      "outputs": [
        {
          "output_type": "execute_result",
          "data": {
            "text/plain": [
              "tensor([1, 2, 3])"
            ]
          },
          "metadata": {},
          "execution_count": 109
        }
      ]
    },
    {
      "cell_type": "code",
      "source": [
        "# If tensor is on GPU, can't transform in to NumPy\n",
        "tensor_back_on_cpu = tensor_on_gpu.cpu().numpy()\n",
        "tensor_back_on_cpu"
      ],
      "metadata": {
        "colab": {
          "base_uri": "https://localhost:8080/"
        },
        "id": "tYE2uM4HHZBg",
        "outputId": "62a281e6-4638-4016-b89a-3f99e9a891bf"
      },
      "execution_count": null,
      "outputs": [
        {
          "output_type": "execute_result",
          "data": {
            "text/plain": [
              "array([1, 2, 3])"
            ]
          },
          "metadata": {},
          "execution_count": 112
        }
      ]
    }
  ]
}